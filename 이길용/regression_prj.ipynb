{
 "cells": [
  {
   "cell_type": "markdown",
   "id": "alpine-mambo",
   "metadata": {},
   "source": [
    "210803 - Korea Univ. Machine Learning Mini Project"
   ]
  },
  {
   "cell_type": "code",
   "execution_count": 1,
   "id": "alternative-contributor",
   "metadata": {},
   "outputs": [],
   "source": [
    "# 데이터 전처리 패키지\n",
    "import numpy as np\n",
    "import pandas as pd\n",
    "\n",
    "# 기계학습 모델 구축 및 평가 패키지\n",
    "import statsmodels.api as sm\n",
    "from statsmodels.formula.api import ols\n",
    "\n",
    "from sklearn.preprocessing import StandardScaler,MinMaxScaler, MaxAbsScaler,RobustScaler\n",
    "from sklearn.metrics import mean_squared_error, r2_score, mean_absolute_error\n",
    "from sklearn.model_selection import train_test_split\n",
    "\n",
    "from sklearn.tree import DecisionTreeRegressor\n",
    "from sklearn.tree import plot_tree\n",
    "\n",
    "# 데이터 시각화 패키지\n",
    "import seaborn as sns\n",
    "import matplotlib.pyplot as plt\n",
    "import matplotlib.font_manager as fm\n",
    "import statsmodels.api as sm\n",
    "from statsmodels.formula.api import ols\n",
    "from collections import Counter\n",
    "\n",
    "# 경고 숨기기\n",
    "import warnings\n",
    "warnings.filterwarnings(action='ignore')\n",
    "\n",
    "from sklearn.linear_model import LinearRegression, Lasso, Ridge, ElasticNet\n",
    "from sklearn.model_selection import cross_val_score\n",
    "from sklearn.model_selection import validation_curve\n",
    "from sklearn.model_selection import GridSearchCV\n",
    "import matplotlib.pyplot as plt\n",
    "\n",
    "# MAPE def.\n",
    "def mean_absolute_percentage_error(y_true, y_pred):\n",
    "    y_true, y_pred = np.array(y_true), np.array(y_pred)\n",
    "    return np.mean(np.abs((y_true-y_pred)/y_true))*100"
   ]
  },
  {
   "cell_type": "code",
   "execution_count": 2,
   "id": "congressional-adobe",
   "metadata": {},
   "outputs": [],
   "source": [
    "# 데이터 불러오기\n",
    "data = pd.read_csv(\"C:/py_workspace/korea_py/prj_st/pt_train_dt.csv\")"
   ]
  },
  {
   "cell_type": "markdown",
   "id": "comic-aside",
   "metadata": {},
   "source": [
    "## Data 탐색 및 전처리"
   ]
  },
  {
   "cell_type": "code",
   "execution_count": 3,
   "id": "b0e691d5-230f-4528-94d6-9188d312abb7",
   "metadata": {},
   "outputs": [
    {
     "data": {
      "text/html": [
       "<div>\n",
       "<style scoped>\n",
       "    .dataframe tbody tr th:only-of-type {\n",
       "        vertical-align: middle;\n",
       "    }\n",
       "\n",
       "    .dataframe tbody tr th {\n",
       "        vertical-align: top;\n",
       "    }\n",
       "\n",
       "    .dataframe thead th {\n",
       "        text-align: right;\n",
       "    }\n",
       "</style>\n",
       "<table border=\"1\" class=\"dataframe\">\n",
       "  <thead>\n",
       "    <tr style=\"text-align: right;\">\n",
       "      <th></th>\n",
       "      <th>lot_id</th>\n",
       "      <th>wf</th>\n",
       "      <th>x_1</th>\n",
       "      <th>x_2</th>\n",
       "      <th>x_3</th>\n",
       "      <th>x_4</th>\n",
       "      <th>x_5</th>\n",
       "      <th>x_6</th>\n",
       "      <th>x_7</th>\n",
       "      <th>x_8</th>\n",
       "      <th>...</th>\n",
       "      <th>x_395</th>\n",
       "      <th>x_396</th>\n",
       "      <th>x_397</th>\n",
       "      <th>x_398</th>\n",
       "      <th>x_399</th>\n",
       "      <th>x_400</th>\n",
       "      <th>y_1</th>\n",
       "      <th>y_2</th>\n",
       "      <th>y_3</th>\n",
       "      <th>split</th>\n",
       "    </tr>\n",
       "  </thead>\n",
       "  <tbody>\n",
       "    <tr>\n",
       "      <th>0</th>\n",
       "      <td>TDRM795W</td>\n",
       "      <td>9</td>\n",
       "      <td>1.473766</td>\n",
       "      <td>85.908215</td>\n",
       "      <td>249.959409</td>\n",
       "      <td>47.834938</td>\n",
       "      <td>856.046648</td>\n",
       "      <td>2500.0</td>\n",
       "      <td>0.495354</td>\n",
       "      <td>0.565273</td>\n",
       "      <td>...</td>\n",
       "      <td>64.0</td>\n",
       "      <td>64.0</td>\n",
       "      <td>64.0</td>\n",
       "      <td>64.0</td>\n",
       "      <td>64.0</td>\n",
       "      <td>64.0</td>\n",
       "      <td>56.55</td>\n",
       "      <td>58.9400</td>\n",
       "      <td>57.5425</td>\n",
       "      <td>train</td>\n",
       "    </tr>\n",
       "    <tr>\n",
       "      <th>1</th>\n",
       "      <td>TDRM129W</td>\n",
       "      <td>3</td>\n",
       "      <td>0.023678</td>\n",
       "      <td>99.979704</td>\n",
       "      <td>249.959409</td>\n",
       "      <td>0.270607</td>\n",
       "      <td>1001.481572</td>\n",
       "      <td>2500.0</td>\n",
       "      <td>0.000000</td>\n",
       "      <td>0.000000</td>\n",
       "      <td>...</td>\n",
       "      <td>55.0</td>\n",
       "      <td>55.0</td>\n",
       "      <td>55.0</td>\n",
       "      <td>55.0</td>\n",
       "      <td>55.0</td>\n",
       "      <td>55.0</td>\n",
       "      <td>57.68</td>\n",
       "      <td>59.7750</td>\n",
       "      <td>58.2325</td>\n",
       "      <td>train</td>\n",
       "    </tr>\n",
       "    <tr>\n",
       "      <th>2</th>\n",
       "      <td>TDRLY92W</td>\n",
       "      <td>11</td>\n",
       "      <td>0.007380</td>\n",
       "      <td>88.220968</td>\n",
       "      <td>249.959409</td>\n",
       "      <td>0.000000</td>\n",
       "      <td>882.352941</td>\n",
       "      <td>2500.0</td>\n",
       "      <td>0.366233</td>\n",
       "      <td>0.470358</td>\n",
       "      <td>...</td>\n",
       "      <td>75.0</td>\n",
       "      <td>75.0</td>\n",
       "      <td>75.0</td>\n",
       "      <td>75.0</td>\n",
       "      <td>75.0</td>\n",
       "      <td>75.0</td>\n",
       "      <td>54.67</td>\n",
       "      <td>58.4675</td>\n",
       "      <td>56.1875</td>\n",
       "      <td>train</td>\n",
       "    </tr>\n",
       "  </tbody>\n",
       "</table>\n",
       "<p>3 rows × 406 columns</p>\n",
       "</div>"
      ],
      "text/plain": [
       "     lot_id  wf       x_1        x_2         x_3        x_4          x_5  \\\n",
       "0  TDRM795W   9  1.473766  85.908215  249.959409  47.834938   856.046648   \n",
       "1  TDRM129W   3  0.023678  99.979704  249.959409   0.270607  1001.481572   \n",
       "2  TDRLY92W  11  0.007380  88.220968  249.959409   0.000000   882.352941   \n",
       "\n",
       "      x_6       x_7       x_8  ...    x_395  x_396  x_397  x_398  x_399  \\\n",
       "0  2500.0  0.495354  0.565273  ...     64.0   64.0   64.0   64.0   64.0   \n",
       "1  2500.0  0.000000  0.000000  ...     55.0   55.0   55.0   55.0   55.0   \n",
       "2  2500.0  0.366233  0.470358  ...     75.0   75.0   75.0   75.0   75.0   \n",
       "\n",
       "   x_400    y_1      y_2      y_3  split  \n",
       "0   64.0  56.55  58.9400  57.5425  train  \n",
       "1   55.0  57.68  59.7750  58.2325  train  \n",
       "2   75.0  54.67  58.4675  56.1875  train  \n",
       "\n",
       "[3 rows x 406 columns]"
      ]
     },
     "execution_count": 3,
     "metadata": {},
     "output_type": "execute_result"
    }
   ],
   "source": [
    "data.head(3)"
   ]
  },
  {
   "cell_type": "code",
   "execution_count": 4,
   "id": "4e8aa9d8-635b-49a7-8d59-0fd33b7fb9ca",
   "metadata": {},
   "outputs": [],
   "source": [
    "d_columns = data.columns[1:402]"
   ]
  },
  {
   "cell_type": "code",
   "execution_count": 5,
   "id": "260cccf8-7730-4519-8527-6418026cd51c",
   "metadata": {},
   "outputs": [],
   "source": [
    "for col in d_columns:\n",
    "    data[col] = data[col].fillna(data[col].median())"
   ]
  },
  {
   "cell_type": "code",
   "execution_count": 6,
   "id": "c4dd00bb-fcc7-4833-99f6-f1011df168a7",
   "metadata": {},
   "outputs": [],
   "source": [
    "X = data.drop(['lot_id','split','y_1','y_2','y_3'], axis=1)\n",
    "Y = data[['y_1','y_2','y_3']]"
   ]
  },
  {
   "cell_type": "code",
   "execution_count": 7,
   "id": "forbidden-bracket",
   "metadata": {},
   "outputs": [],
   "source": [
    "# 학습 : 검증 : 테스트 = 6 : 3 : 1 데이터 분리\n",
    "X_train, X_valid, Y_train, Y_valid = train_test_split(X, Y, test_size=0.4, random_state=2021)\n",
    "X_valid, X_test, Y_valid, Y_test = train_test_split(X_valid, Y_valid, test_size=0.25, random_state=2021)"
   ]
  },
  {
   "cell_type": "code",
   "execution_count": 8,
   "id": "b6aa86fb-732d-494d-8d1a-a9b521b1fb16",
   "metadata": {},
   "outputs": [
    {
     "data": {
      "image/png": "[encoded data removed]",
      "text/plain": [
       "<Figure size 432x288 with 1 Axes>"
      ]
     },
     "metadata": {
      "needs_background": "light"
     },
     "output_type": "display_data"
    }
   ],
   "source": [
    "plt.hist(data.y_1)\n",
    "plt.hist(data.y_2)\n",
    "plt.hist(data.y_3)\n",
    "plt.show()"
   ]
  },
  {
   "cell_type": "code",
   "execution_count": 9,
   "id": "c8b679ba-a939-4326-b6cd-b4ec264ee1a4",
   "metadata": {},
   "outputs": [],
   "source": [
    "# Outlier 처리 예정\n",
    "\n",
    "\n"
   ]
  },
  {
   "cell_type": "code",
   "execution_count": null,
   "id": "104551a6-d1e3-41f7-8439-327b1030e142",
   "metadata": {},
   "outputs": [],
   "source": []
  },
  {
   "cell_type": "code",
   "execution_count": null,
   "id": "01fd58a4-45bb-4aa2-9692-cab8fffa9fbe",
   "metadata": {},
   "outputs": [],
   "source": []
  },
  {
   "cell_type": "code",
   "execution_count": null,
   "id": "fb7b80f9-8b58-4eef-94d9-ca7148b66031",
   "metadata": {},
   "outputs": [],
   "source": []
  },
  {
   "cell_type": "markdown",
   "id": "ac47f113-5d2e-4d03-b73b-b90b333c7820",
   "metadata": {},
   "source": [
    "# Scaling"
   ]
  },
  {
   "cell_type": "markdown",
   "id": "b5fef506-1b35-44df-943e-b755b0122a6a",
   "metadata": {},
   "source": [
    "### Robust Scaler"
   ]
  },
  {
   "cell_type": "code",
   "execution_count": 10,
   "id": "5d9d4001-f352-4594-a2b9-cb04897d9049",
   "metadata": {},
   "outputs": [],
   "source": [
    "Robust_scaler = RobustScaler()\n",
    "Robust_scaler.fit(X_train)\n",
    "X_train_RB = Robust_scaler.transform(X_train)\n",
    "X_valid_RB = Robust_scaler.transform(X_valid)\n",
    "X_test_RB = Robust_scaler.transform(X_test)"
   ]
  },
  {
   "cell_type": "code",
   "execution_count": 11,
   "id": "f7704b7e-0069-4ac2-86f3-374bb05808ce",
   "metadata": {},
   "outputs": [
    {
     "data": {
      "text/html": [
       "<div>\n",
       "<style scoped>\n",
       "    .dataframe tbody tr th:only-of-type {\n",
       "        vertical-align: middle;\n",
       "    }\n",
       "\n",
       "    .dataframe tbody tr th {\n",
       "        vertical-align: top;\n",
       "    }\n",
       "\n",
       "    .dataframe thead th {\n",
       "        text-align: right;\n",
       "    }\n",
       "</style>\n",
       "<table border=\"1\" class=\"dataframe\">\n",
       "  <thead>\n",
       "    <tr style=\"text-align: right;\">\n",
       "      <th></th>\n",
       "      <th>0</th>\n",
       "      <th>1</th>\n",
       "      <th>2</th>\n",
       "      <th>3</th>\n",
       "      <th>4</th>\n",
       "      <th>5</th>\n",
       "      <th>6</th>\n",
       "      <th>7</th>\n",
       "      <th>8</th>\n",
       "      <th>9</th>\n",
       "      <th>...</th>\n",
       "      <th>391</th>\n",
       "      <th>392</th>\n",
       "      <th>393</th>\n",
       "      <th>394</th>\n",
       "      <th>395</th>\n",
       "      <th>396</th>\n",
       "      <th>397</th>\n",
       "      <th>398</th>\n",
       "      <th>399</th>\n",
       "      <th>400</th>\n",
       "    </tr>\n",
       "  </thead>\n",
       "  <tbody>\n",
       "    <tr>\n",
       "      <th>count</th>\n",
       "      <td>66075.000000</td>\n",
       "      <td>66075.000000</td>\n",
       "      <td>66075.000000</td>\n",
       "      <td>66075.000000</td>\n",
       "      <td>66075.000000</td>\n",
       "      <td>66075.000000</td>\n",
       "      <td>66075.000000</td>\n",
       "      <td>66075.000000</td>\n",
       "      <td>66075.000000</td>\n",
       "      <td>66075.000000</td>\n",
       "      <td>...</td>\n",
       "      <td>66075.000000</td>\n",
       "      <td>66075.000000</td>\n",
       "      <td>66075.000000</td>\n",
       "      <td>66075.000000</td>\n",
       "      <td>66075.000000</td>\n",
       "      <td>66075.000000</td>\n",
       "      <td>66075.000000</td>\n",
       "      <td>66075.000000</td>\n",
       "      <td>66075.000000</td>\n",
       "      <td>66075.000000</td>\n",
       "    </tr>\n",
       "    <tr>\n",
       "      <th>mean</th>\n",
       "      <td>0.001825</td>\n",
       "      <td>2.655299</td>\n",
       "      <td>0.034130</td>\n",
       "      <td>2.932547</td>\n",
       "      <td>13.873002</td>\n",
       "      <td>0.104574</td>\n",
       "      <td>23.837187</td>\n",
       "      <td>0.554450</td>\n",
       "      <td>0.613246</td>\n",
       "      <td>0.647430</td>\n",
       "      <td>...</td>\n",
       "      <td>0.009792</td>\n",
       "      <td>0.003396</td>\n",
       "      <td>-0.004501</td>\n",
       "      <td>-0.016255</td>\n",
       "      <td>-0.013828</td>\n",
       "      <td>-0.011558</td>\n",
       "      <td>-0.010006</td>\n",
       "      <td>-0.006643</td>\n",
       "      <td>0.005332</td>\n",
       "      <td>-0.001942</td>\n",
       "    </tr>\n",
       "    <tr>\n",
       "      <th>std</th>\n",
       "      <td>0.599260</td>\n",
       "      <td>5.317912</td>\n",
       "      <td>0.941295</td>\n",
       "      <td>40.321962</td>\n",
       "      <td>29.473635</td>\n",
       "      <td>0.884317</td>\n",
       "      <td>330.780070</td>\n",
       "      <td>1.759197</td>\n",
       "      <td>1.963202</td>\n",
       "      <td>7.518325</td>\n",
       "      <td>...</td>\n",
       "      <td>0.580575</td>\n",
       "      <td>0.591817</td>\n",
       "      <td>0.589719</td>\n",
       "      <td>0.607625</td>\n",
       "      <td>0.608499</td>\n",
       "      <td>0.618856</td>\n",
       "      <td>0.609775</td>\n",
       "      <td>0.610192</td>\n",
       "      <td>0.593482</td>\n",
       "      <td>0.607671</td>\n",
       "    </tr>\n",
       "    <tr>\n",
       "      <th>min</th>\n",
       "      <td>-1.000000</td>\n",
       "      <td>-0.535713</td>\n",
       "      <td>-7.383239</td>\n",
       "      <td>-8.927122</td>\n",
       "      <td>-3.375302</td>\n",
       "      <td>-7.393671</td>\n",
       "      <td>-89.314708</td>\n",
       "      <td>0.000000</td>\n",
       "      <td>0.000000</td>\n",
       "      <td>-2.654906</td>\n",
       "      <td>...</td>\n",
       "      <td>-0.972222</td>\n",
       "      <td>-1.142857</td>\n",
       "      <td>-1.077877</td>\n",
       "      <td>-1.147059</td>\n",
       "      <td>-1.147059</td>\n",
       "      <td>-1.165056</td>\n",
       "      <td>-1.147059</td>\n",
       "      <td>-1.147059</td>\n",
       "      <td>-1.114286</td>\n",
       "      <td>-1.157895</td>\n",
       "    </tr>\n",
       "    <tr>\n",
       "      <th>25%</th>\n",
       "      <td>-0.500000</td>\n",
       "      <td>-0.038997</td>\n",
       "      <td>-0.471853</td>\n",
       "      <td>0.000000</td>\n",
       "      <td>-0.066407</td>\n",
       "      <td>-0.463965</td>\n",
       "      <td>0.000000</td>\n",
       "      <td>0.000000</td>\n",
       "      <td>0.000000</td>\n",
       "      <td>-0.406062</td>\n",
       "      <td>...</td>\n",
       "      <td>-0.500000</td>\n",
       "      <td>-0.485714</td>\n",
       "      <td>-0.508581</td>\n",
       "      <td>-0.529412</td>\n",
       "      <td>-0.529412</td>\n",
       "      <td>-0.521777</td>\n",
       "      <td>-0.500000</td>\n",
       "      <td>-0.500000</td>\n",
       "      <td>-0.485714</td>\n",
       "      <td>-0.485380</td>\n",
       "    </tr>\n",
       "    <tr>\n",
       "      <th>50%</th>\n",
       "      <td>0.000000</td>\n",
       "      <td>0.000000</td>\n",
       "      <td>0.000000</td>\n",
       "      <td>0.000000</td>\n",
       "      <td>0.000000</td>\n",
       "      <td>0.000000</td>\n",
       "      <td>0.000000</td>\n",
       "      <td>0.000000</td>\n",
       "      <td>0.000000</td>\n",
       "      <td>0.000000</td>\n",
       "      <td>...</td>\n",
       "      <td>0.000000</td>\n",
       "      <td>0.000000</td>\n",
       "      <td>0.000000</td>\n",
       "      <td>0.000000</td>\n",
       "      <td>0.000000</td>\n",
       "      <td>0.000000</td>\n",
       "      <td>0.000000</td>\n",
       "      <td>0.000000</td>\n",
       "      <td>0.000000</td>\n",
       "      <td>0.000000</td>\n",
       "    </tr>\n",
       "    <tr>\n",
       "      <th>75%</th>\n",
       "      <td>0.500000</td>\n",
       "      <td>0.961003</td>\n",
       "      <td>0.528147</td>\n",
       "      <td>0.000000</td>\n",
       "      <td>0.933593</td>\n",
       "      <td>0.536035</td>\n",
       "      <td>0.000000</td>\n",
       "      <td>1.000000</td>\n",
       "      <td>1.000000</td>\n",
       "      <td>0.593938</td>\n",
       "      <td>...</td>\n",
       "      <td>0.500000</td>\n",
       "      <td>0.514286</td>\n",
       "      <td>0.491419</td>\n",
       "      <td>0.470588</td>\n",
       "      <td>0.470588</td>\n",
       "      <td>0.478223</td>\n",
       "      <td>0.500000</td>\n",
       "      <td>0.500000</td>\n",
       "      <td>0.514286</td>\n",
       "      <td>0.514620</td>\n",
       "    </tr>\n",
       "    <tr>\n",
       "      <th>max</th>\n",
       "      <td>1.000000</td>\n",
       "      <td>75.400141</td>\n",
       "      <td>38.076788</td>\n",
       "      <td>549.040591</td>\n",
       "      <td>188.597505</td>\n",
       "      <td>32.423445</td>\n",
       "      <td>4502.185185</td>\n",
       "      <td>34.896680</td>\n",
       "      <td>22.015448</td>\n",
       "      <td>102.720512</td>\n",
       "      <td>...</td>\n",
       "      <td>1.777778</td>\n",
       "      <td>1.685714</td>\n",
       "      <td>1.750746</td>\n",
       "      <td>1.764706</td>\n",
       "      <td>1.764706</td>\n",
       "      <td>1.792394</td>\n",
       "      <td>1.764706</td>\n",
       "      <td>1.764706</td>\n",
       "      <td>1.714286</td>\n",
       "      <td>1.736842</td>\n",
       "    </tr>\n",
       "  </tbody>\n",
       "</table>\n",
       "<p>8 rows × 401 columns</p>\n",
       "</div>"
      ],
      "text/plain": [
       "                0             1             2             3             4    \\\n",
       "count  66075.000000  66075.000000  66075.000000  66075.000000  66075.000000   \n",
       "mean       0.001825      2.655299      0.034130      2.932547     13.873002   \n",
       "std        0.599260      5.317912      0.941295     40.321962     29.473635   \n",
       "min       -1.000000     -0.535713     -7.383239     -8.927122     -3.375302   \n",
       "25%       -0.500000     -0.038997     -0.471853      0.000000     -0.066407   \n",
       "50%        0.000000      0.000000      0.000000      0.000000      0.000000   \n",
       "75%        0.500000      0.961003      0.528147      0.000000      0.933593   \n",
       "max        1.000000     75.400141     38.076788    549.040591    188.597505   \n",
       "\n",
       "                5             6             7             8             9    \\\n",
       "count  66075.000000  66075.000000  66075.000000  66075.000000  66075.000000   \n",
       "mean       0.104574     23.837187      0.554450      0.613246      0.647430   \n",
       "std        0.884317    330.780070      1.759197      1.963202      7.518325   \n",
       "min       -7.393671    -89.314708      0.000000      0.000000     -2.654906   \n",
       "25%       -0.463965      0.000000      0.000000      0.000000     -0.406062   \n",
       "50%        0.000000      0.000000      0.000000      0.000000      0.000000   \n",
       "75%        0.536035      0.000000      1.000000      1.000000      0.593938   \n",
       "max       32.423445   4502.185185     34.896680     22.015448    102.720512   \n",
       "\n",
       "           ...                391           392           393           394  \\\n",
       "count      ...       66075.000000  66075.000000  66075.000000  66075.000000   \n",
       "mean       ...           0.009792      0.003396     -0.004501     -0.016255   \n",
       "std        ...           0.580575      0.591817      0.589719      0.607625   \n",
       "min        ...          -0.972222     -1.142857     -1.077877     -1.147059   \n",
       "25%        ...          -0.500000     -0.485714     -0.508581     -0.529412   \n",
       "50%        ...           0.000000      0.000000      0.000000      0.000000   \n",
       "75%        ...           0.500000      0.514286      0.491419      0.470588   \n",
       "max        ...           1.777778      1.685714      1.750746      1.764706   \n",
       "\n",
       "                395           396           397           398           399  \\\n",
       "count  66075.000000  66075.000000  66075.000000  66075.000000  66075.000000   \n",
       "mean      -0.013828     -0.011558     -0.010006     -0.006643      0.005332   \n",
       "std        0.608499      0.618856      0.609775      0.610192      0.593482   \n",
       "min       -1.147059     -1.165056     -1.147059     -1.147059     -1.114286   \n",
       "25%       -0.529412     -0.521777     -0.500000     -0.500000     -0.485714   \n",
       "50%        0.000000      0.000000      0.000000      0.000000      0.000000   \n",
       "75%        0.470588      0.478223      0.500000      0.500000      0.514286   \n",
       "max        1.764706      1.792394      1.764706      1.764706      1.714286   \n",
       "\n",
       "                400  \n",
       "count  66075.000000  \n",
       "mean      -0.001942  \n",
       "std        0.607671  \n",
       "min       -1.157895  \n",
       "25%       -0.485380  \n",
       "50%        0.000000  \n",
       "75%        0.514620  \n",
       "max        1.736842  \n",
       "\n",
       "[8 rows x 401 columns]"
      ]
     },
     "execution_count": 11,
     "metadata": {},
     "output_type": "execute_result"
    }
   ],
   "source": [
    "pd.DataFrame(X_train_RB).describe()"
   ]
  },
  {
   "cell_type": "markdown",
   "id": "5d814f3e-12c5-4e25-88a6-96e488b4dcae",
   "metadata": {},
   "source": [
    "### MaxAbs Scaler"
   ]
  },
  {
   "cell_type": "code",
   "execution_count": 12,
   "id": "843ddcac-09c7-4e0d-b9ce-7a3606b952cf",
   "metadata": {},
   "outputs": [],
   "source": [
    "MA_scaler = MaxAbsScaler()\n",
    "MA_scaler.fit(X_train)\n",
    "X_train_MA = MA_scaler.transform(X_train)\n",
    "X_valid_MA = MA_scaler.transform(X_valid)\n",
    "X_test_MA = MA_scaler.transform(X_test)"
   ]
  },
  {
   "cell_type": "code",
   "execution_count": 13,
   "id": "9f9895d2-ecee-4d08-aab9-7163bc1411b8",
   "metadata": {},
   "outputs": [
    {
     "data": {
      "text/html": [
       "<div>\n",
       "<style scoped>\n",
       "    .dataframe tbody tr th:only-of-type {\n",
       "        vertical-align: middle;\n",
       "    }\n",
       "\n",
       "    .dataframe tbody tr th {\n",
       "        vertical-align: top;\n",
       "    }\n",
       "\n",
       "    .dataframe thead th {\n",
       "        text-align: right;\n",
       "    }\n",
       "</style>\n",
       "<table border=\"1\" class=\"dataframe\">\n",
       "  <thead>\n",
       "    <tr style=\"text-align: right;\">\n",
       "      <th></th>\n",
       "      <th>0</th>\n",
       "      <th>1</th>\n",
       "      <th>2</th>\n",
       "      <th>3</th>\n",
       "      <th>4</th>\n",
       "      <th>5</th>\n",
       "      <th>6</th>\n",
       "      <th>7</th>\n",
       "      <th>8</th>\n",
       "      <th>9</th>\n",
       "      <th>...</th>\n",
       "      <th>391</th>\n",
       "      <th>392</th>\n",
       "      <th>393</th>\n",
       "      <th>394</th>\n",
       "      <th>395</th>\n",
       "      <th>396</th>\n",
       "      <th>397</th>\n",
       "      <th>398</th>\n",
       "      <th>399</th>\n",
       "      <th>400</th>\n",
       "    </tr>\n",
       "  </thead>\n",
       "  <tbody>\n",
       "    <tr>\n",
       "      <th>count</th>\n",
       "      <td>66075.000000</td>\n",
       "      <td>66075.000000</td>\n",
       "      <td>66075.000000</td>\n",
       "      <td>66075.000000</td>\n",
       "      <td>66075.000000</td>\n",
       "      <td>66075.000000</td>\n",
       "      <td>66075.000000</td>\n",
       "      <td>66075.000000</td>\n",
       "      <td>66075.000000</td>\n",
       "      <td>66075.000000</td>\n",
       "      <td>...</td>\n",
       "      <td>66075.000000</td>\n",
       "      <td>66075.000000</td>\n",
       "      <td>66075.000000</td>\n",
       "      <td>66075.000000</td>\n",
       "      <td>66075.000000</td>\n",
       "      <td>66075.000000</td>\n",
       "      <td>66075.000000</td>\n",
       "      <td>66075.000000</td>\n",
       "      <td>66075.000000</td>\n",
       "      <td>66075.000000</td>\n",
       "    </tr>\n",
       "    <tr>\n",
       "      <th>mean</th>\n",
       "      <td>0.520876</td>\n",
       "      <td>0.035825</td>\n",
       "      <td>0.174749</td>\n",
       "      <td>0.316511</td>\n",
       "      <td>0.074057</td>\n",
       "      <td>0.201224</td>\n",
       "      <td>0.360436</td>\n",
       "      <td>0.015888</td>\n",
       "      <td>0.027855</td>\n",
       "      <td>0.503300</td>\n",
       "      <td>...</td>\n",
       "      <td>0.363525</td>\n",
       "      <td>0.411189</td>\n",
       "      <td>0.385675</td>\n",
       "      <td>0.394473</td>\n",
       "      <td>0.395299</td>\n",
       "      <td>0.396131</td>\n",
       "      <td>0.396598</td>\n",
       "      <td>0.397742</td>\n",
       "      <td>0.401866</td>\n",
       "      <td>0.405336</td>\n",
       "    </tr>\n",
       "    <tr>\n",
       "      <th>std</th>\n",
       "      <td>0.287645</td>\n",
       "      <td>0.070485</td>\n",
       "      <td>0.020419</td>\n",
       "      <td>0.050466</td>\n",
       "      <td>0.156194</td>\n",
       "      <td>0.021856</td>\n",
       "      <td>0.047240</td>\n",
       "      <td>0.050412</td>\n",
       "      <td>0.089174</td>\n",
       "      <td>0.036585</td>\n",
       "      <td>...</td>\n",
       "      <td>0.209007</td>\n",
       "      <td>0.207136</td>\n",
       "      <td>0.206398</td>\n",
       "      <td>0.206592</td>\n",
       "      <td>0.206890</td>\n",
       "      <td>0.207161</td>\n",
       "      <td>0.207323</td>\n",
       "      <td>0.207465</td>\n",
       "      <td>0.207719</td>\n",
       "      <td>0.207823</td>\n",
       "    </tr>\n",
       "    <tr>\n",
       "      <th>min</th>\n",
       "      <td>0.040000</td>\n",
       "      <td>-0.006469</td>\n",
       "      <td>0.013846</td>\n",
       "      <td>0.301667</td>\n",
       "      <td>-0.017350</td>\n",
       "      <td>0.015901</td>\n",
       "      <td>0.344276</td>\n",
       "      <td>0.000000</td>\n",
       "      <td>0.000000</td>\n",
       "      <td>0.487231</td>\n",
       "      <td>...</td>\n",
       "      <td>0.010000</td>\n",
       "      <td>0.010000</td>\n",
       "      <td>0.010000</td>\n",
       "      <td>0.010000</td>\n",
       "      <td>0.010000</td>\n",
       "      <td>0.010000</td>\n",
       "      <td>0.010000</td>\n",
       "      <td>0.010000</td>\n",
       "      <td>0.010000</td>\n",
       "      <td>0.010000</td>\n",
       "    </tr>\n",
       "    <tr>\n",
       "      <th>25%</th>\n",
       "      <td>0.280000</td>\n",
       "      <td>0.000114</td>\n",
       "      <td>0.163773</td>\n",
       "      <td>0.312840</td>\n",
       "      <td>0.000186</td>\n",
       "      <td>0.187172</td>\n",
       "      <td>0.357031</td>\n",
       "      <td>0.000000</td>\n",
       "      <td>0.000000</td>\n",
       "      <td>0.498174</td>\n",
       "      <td>...</td>\n",
       "      <td>0.180000</td>\n",
       "      <td>0.240000</td>\n",
       "      <td>0.209250</td>\n",
       "      <td>0.220000</td>\n",
       "      <td>0.220000</td>\n",
       "      <td>0.225336</td>\n",
       "      <td>0.230000</td>\n",
       "      <td>0.230000</td>\n",
       "      <td>0.230000</td>\n",
       "      <td>0.240000</td>\n",
       "    </tr>\n",
       "    <tr>\n",
       "      <th>50%</th>\n",
       "      <td>0.520000</td>\n",
       "      <td>0.000631</td>\n",
       "      <td>0.174009</td>\n",
       "      <td>0.312840</td>\n",
       "      <td>0.000537</td>\n",
       "      <td>0.198639</td>\n",
       "      <td>0.357031</td>\n",
       "      <td>0.000000</td>\n",
       "      <td>0.000000</td>\n",
       "      <td>0.500150</td>\n",
       "      <td>...</td>\n",
       "      <td>0.360000</td>\n",
       "      <td>0.410000</td>\n",
       "      <td>0.387250</td>\n",
       "      <td>0.400000</td>\n",
       "      <td>0.400000</td>\n",
       "      <td>0.400000</td>\n",
       "      <td>0.400000</td>\n",
       "      <td>0.400000</td>\n",
       "      <td>0.400000</td>\n",
       "      <td>0.406000</td>\n",
       "    </tr>\n",
       "    <tr>\n",
       "      <th>75%</th>\n",
       "      <td>0.760000</td>\n",
       "      <td>0.013368</td>\n",
       "      <td>0.185466</td>\n",
       "      <td>0.312840</td>\n",
       "      <td>0.005485</td>\n",
       "      <td>0.211888</td>\n",
       "      <td>0.357031</td>\n",
       "      <td>0.028656</td>\n",
       "      <td>0.045423</td>\n",
       "      <td>0.503040</td>\n",
       "      <td>...</td>\n",
       "      <td>0.540000</td>\n",
       "      <td>0.590000</td>\n",
       "      <td>0.559244</td>\n",
       "      <td>0.560000</td>\n",
       "      <td>0.560000</td>\n",
       "      <td>0.560084</td>\n",
       "      <td>0.570000</td>\n",
       "      <td>0.570000</td>\n",
       "      <td>0.580000</td>\n",
       "      <td>0.582000</td>\n",
       "    </tr>\n",
       "    <tr>\n",
       "      <th>max</th>\n",
       "      <td>1.000000</td>\n",
       "      <td>1.000000</td>\n",
       "      <td>1.000000</td>\n",
       "      <td>1.000000</td>\n",
       "      <td>1.000000</td>\n",
       "      <td>1.000000</td>\n",
       "      <td>1.000000</td>\n",
       "      <td>1.000000</td>\n",
       "      <td>1.000000</td>\n",
       "      <td>1.000000</td>\n",
       "      <td>...</td>\n",
       "      <td>1.000000</td>\n",
       "      <td>1.000000</td>\n",
       "      <td>1.000000</td>\n",
       "      <td>1.000000</td>\n",
       "      <td>1.000000</td>\n",
       "      <td>1.000000</td>\n",
       "      <td>1.000000</td>\n",
       "      <td>1.000000</td>\n",
       "      <td>1.000000</td>\n",
       "      <td>1.000000</td>\n",
       "    </tr>\n",
       "  </tbody>\n",
       "</table>\n",
       "<p>8 rows × 401 columns</p>\n",
       "</div>"
      ],
      "text/plain": [
       "                0             1             2             3             4    \\\n",
       "count  66075.000000  66075.000000  66075.000000  66075.000000  66075.000000   \n",
       "mean       0.520876      0.035825      0.174749      0.316511      0.074057   \n",
       "std        0.287645      0.070485      0.020419      0.050466      0.156194   \n",
       "min        0.040000     -0.006469      0.013846      0.301667     -0.017350   \n",
       "25%        0.280000      0.000114      0.163773      0.312840      0.000186   \n",
       "50%        0.520000      0.000631      0.174009      0.312840      0.000537   \n",
       "75%        0.760000      0.013368      0.185466      0.312840      0.005485   \n",
       "max        1.000000      1.000000      1.000000      1.000000      1.000000   \n",
       "\n",
       "                5             6             7             8             9    \\\n",
       "count  66075.000000  66075.000000  66075.000000  66075.000000  66075.000000   \n",
       "mean       0.201224      0.360436      0.015888      0.027855      0.503300   \n",
       "std        0.021856      0.047240      0.050412      0.089174      0.036585   \n",
       "min        0.015901      0.344276      0.000000      0.000000      0.487231   \n",
       "25%        0.187172      0.357031      0.000000      0.000000      0.498174   \n",
       "50%        0.198639      0.357031      0.000000      0.000000      0.500150   \n",
       "75%        0.211888      0.357031      0.028656      0.045423      0.503040   \n",
       "max        1.000000      1.000000      1.000000      1.000000      1.000000   \n",
       "\n",
       "           ...                391           392           393           394  \\\n",
       "count      ...       66075.000000  66075.000000  66075.000000  66075.000000   \n",
       "mean       ...           0.363525      0.411189      0.385675      0.394473   \n",
       "std        ...           0.209007      0.207136      0.206398      0.206592   \n",
       "min        ...           0.010000      0.010000      0.010000      0.010000   \n",
       "25%        ...           0.180000      0.240000      0.209250      0.220000   \n",
       "50%        ...           0.360000      0.410000      0.387250      0.400000   \n",
       "75%        ...           0.540000      0.590000      0.559244      0.560000   \n",
       "max        ...           1.000000      1.000000      1.000000      1.000000   \n",
       "\n",
       "                395           396           397           398           399  \\\n",
       "count  66075.000000  66075.000000  66075.000000  66075.000000  66075.000000   \n",
       "mean       0.395299      0.396131      0.396598      0.397742      0.401866   \n",
       "std        0.206890      0.207161      0.207323      0.207465      0.207719   \n",
       "min        0.010000      0.010000      0.010000      0.010000      0.010000   \n",
       "25%        0.220000      0.225336      0.230000      0.230000      0.230000   \n",
       "50%        0.400000      0.400000      0.400000      0.400000      0.400000   \n",
       "75%        0.560000      0.560084      0.570000      0.570000      0.580000   \n",
       "max        1.000000      1.000000      1.000000      1.000000      1.000000   \n",
       "\n",
       "                400  \n",
       "count  66075.000000  \n",
       "mean       0.405336  \n",
       "std        0.207823  \n",
       "min        0.010000  \n",
       "25%        0.240000  \n",
       "50%        0.406000  \n",
       "75%        0.582000  \n",
       "max        1.000000  \n",
       "\n",
       "[8 rows x 401 columns]"
      ]
     },
     "execution_count": 13,
     "metadata": {},
     "output_type": "execute_result"
    }
   ],
   "source": [
    "pd.DataFrame(X_train_MA).describe()"
   ]
  },
  {
   "cell_type": "markdown",
   "id": "after-costs",
   "metadata": {},
   "source": [
    "# Modeling"
   ]
  },
  {
   "cell_type": "markdown",
   "id": "ca99093a-9465-4ab8-8daa-a0614d1a085a",
   "metadata": {},
   "source": [
    "### Linear Regression"
   ]
  },
  {
   "cell_type": "code",
   "execution_count": 14,
   "id": "integral-pennsylvania",
   "metadata": {
    "tags": []
   },
   "outputs": [
    {
     "data": {
      "text/plain": [
       "array([[57.45597653, 59.56814336, 58.29494865],\n",
       "       [56.82299855, 59.00061666, 57.72318379],\n",
       "       [57.27668289, 59.18179192, 57.99304907],\n",
       "       ...,\n",
       "       [57.8976223 , 59.51703747, 58.54619716],\n",
       "       [57.63885619, 59.59251333, 58.36443733],\n",
       "       [57.01899165, 58.92756055, 57.7119848 ]])"
      ]
     },
     "execution_count": 14,
     "metadata": {},
     "output_type": "execute_result"
    }
   ],
   "source": [
    "# 선형 회귀 모델 학습 - Standard Scaler\n",
    "model_LR_RB = LinearRegression().fit(X_train_RB, Y_train)\n",
    "model_LR_RB.score(X_train_RB, Y_train)\n",
    "model_LR_RB.coef_\n",
    "model_LR_RB.intercept_\n",
    "model_LR_RB.predict(X_test_RB)"
   ]
  },
  {
   "cell_type": "code",
   "execution_count": 15,
   "id": "7e6cf224-10ce-4b5f-ac24-e327d04aa7af",
   "metadata": {
    "tags": []
   },
   "outputs": [
    {
     "data": {
      "text/plain": [
       "array([[57.45597653, 59.56814336, 58.29494865],\n",
       "       [56.82299855, 59.00061666, 57.72318379],\n",
       "       [57.27668289, 59.18179192, 57.99304907],\n",
       "       ...,\n",
       "       [57.8976223 , 59.51703747, 58.54619716],\n",
       "       [57.63885619, 59.59251333, 58.36443733],\n",
       "       [57.01899165, 58.92756055, 57.7119848 ]])"
      ]
     },
     "execution_count": 15,
     "metadata": {},
     "output_type": "execute_result"
    }
   ],
   "source": [
    "model_LR_MA = LinearRegression().fit(X_train_MA, Y_train)\n",
    "model_LR_MA.score(X_train_MA, Y_train)\n",
    "model_LR_MA.coef_\n",
    "model_LR_MA.intercept_\n",
    "model_LR_MA.predict(X_test_MA)"
   ]
  },
  {
   "cell_type": "code",
   "execution_count": 16,
   "id": "3cfd85c0-8f07-4482-81c9-8bd59619eedc",
   "metadata": {},
   "outputs": [
    {
     "data": {
      "text/plain": [
       "0.176001665637619"
      ]
     },
     "execution_count": 16,
     "metadata": {},
     "output_type": "execute_result"
    }
   ],
   "source": [
    "model_LR_RB.score(X_train_RB, Y_train)"
   ]
  },
  {
   "cell_type": "code",
   "execution_count": 17,
   "id": "bb6eb083-715b-487c-969d-35ed586787b4",
   "metadata": {},
   "outputs": [
    {
     "data": {
      "text/plain": [
       "0.17600166563761188"
      ]
     },
     "execution_count": 17,
     "metadata": {},
     "output_type": "execute_result"
    }
   ],
   "source": [
    "model_LR_MA.score(X_train_MA, Y_train)"
   ]
  },
  {
   "cell_type": "code",
   "execution_count": 18,
   "id": "9a76624e-7083-40a3-b083-714157599b14",
   "metadata": {},
   "outputs": [],
   "source": [
    "train_y_pred_RB = model_LR_RB.predict(X_train_RB)"
   ]
  },
  {
   "cell_type": "code",
   "execution_count": 19,
   "id": "6b826872-27bc-4112-b0db-6c7b5307e8cb",
   "metadata": {},
   "outputs": [],
   "source": [
    "train_y_pred_MA = model_LR_MA.predict(X_train_MA)"
   ]
  },
  {
   "cell_type": "code",
   "execution_count": 20,
   "id": "98d47c1e-5a73-4bed-9a43-bfddedbca35d",
   "metadata": {},
   "outputs": [],
   "source": [
    "def mean_absolute_percentage_error(y_true, y_pred):\n",
    "    y_true, y_pred = np.array(y_true), np.array(y_pred)\n",
    "    return np.mean(np.abs((y_true-y_pred)/y_true))*100"
   ]
  },
  {
   "cell_type": "code",
   "execution_count": 21,
   "id": "2b312daa-586d-4183-8266-0c67d695607b",
   "metadata": {},
   "outputs": [
    {
     "name": "stdout",
     "output_type": "stream",
     "text": [
      "Training MSE : 0.847\n",
      "Training RMSE : 0.920\n",
      "Training MAE : 0.684\n",
      "Training MAPE : 1.184\n",
      "Training R2 : 0.176\n"
     ]
    }
   ],
   "source": [
    "print(\"Training MSE : {:.3f}\".format(mean_squared_error(Y_train, train_y_pred_RB)))\n",
    "print(\"Training RMSE : {:.3f}\".format(np.sqrt(mean_squared_error(Y_train, train_y_pred_RB))))\n",
    "print(\"Training MAE : {:.3f}\".format(mean_absolute_error(Y_train, train_y_pred_RB)))\n",
    "print(\"Training MAPE : {:.3f}\".format(mean_absolute_percentage_error(Y_train, train_y_pred_RB)))\n",
    "print(\"Training R2 : {:.3f}\".format(r2_score(Y_train, train_y_pred_RB)))"
   ]
  },
  {
   "cell_type": "code",
   "execution_count": 22,
   "id": "91ada089-e80a-4c98-bf55-287d31974523",
   "metadata": {},
   "outputs": [
    {
     "name": "stdout",
     "output_type": "stream",
     "text": [
      "Training MSE : 0.847\n",
      "Training RMSE : 0.920\n",
      "Training MAE : 0.684\n",
      "Training MAPE : 1.184\n",
      "Training R2 : 0.176\n"
     ]
    }
   ],
   "source": [
    "print(\"Training MSE : {:.3f}\".format(mean_squared_error(Y_train, train_y_pred_MA)))\n",
    "print(\"Training RMSE : {:.3f}\".format(np.sqrt(mean_squared_error(Y_train, train_y_pred_MA))))\n",
    "print(\"Training MAE : {:.3f}\".format(mean_absolute_error(Y_train, train_y_pred_MA)))\n",
    "print(\"Training MAPE : {:.3f}\".format(mean_absolute_percentage_error(Y_train, train_y_pred_MA)))\n",
    "print(\"Training R2 : {:.3f}\".format(r2_score(Y_train, train_y_pred_MA)))"
   ]
  },
  {
   "cell_type": "code",
   "execution_count": 23,
   "id": "faabc680-7f9a-4896-ba4d-f85d2bbba2d8",
   "metadata": {},
   "outputs": [
    {
     "data": {
      "image/png": "[encoded data removed]",
      "text/plain": [
       "<Figure size 576x576 with 1 Axes>"
      ]
     },
     "metadata": {
      "needs_background": "light"
     },
     "output_type": "display_data"
    }
   ],
   "source": [
    "fig_values = np.concatenate([Y_train.squeeze(), train_y_pred_RB.squeeze()])\n",
    "vmin = np.min(fig_values) * 0.95\n",
    "vmax = np.max(fig_values) * 1.05\n",
    "\n",
    "plt.figure(figsize=(8, 8))\n",
    "plt.title('Actual values vs. Predicted values (Training Data)', size=18)\n",
    "plt.scatter(Y_train, train_y_pred_RB)\n",
    "plt.plot([vmin, vmax], [vmin, vmax], color='grey', linestyle='dashed')\n",
    "plt.xlabel('Actual', size=16)\n",
    "plt.ylabel('Predicted', size=16)\n",
    "plt.show()"
   ]
  },
  {
   "cell_type": "code",
   "execution_count": 24,
   "id": "3ba5635d-4d90-41fd-9983-20f176ea9c0f",
   "metadata": {},
   "outputs": [
    {
     "data": {
      "image/png": "[encoded data removed]",
      "text/plain": [
       "<Figure size 576x576 with 1 Axes>"
      ]
     },
     "metadata": {
      "needs_background": "light"
     },
     "output_type": "display_data"
    }
   ],
   "source": [
    "fig_values = np.concatenate([Y_train.squeeze(), train_y_pred_MA.squeeze()])\n",
    "vmin = np.min(fig_values) * 0.95\n",
    "vmax = np.max(fig_values) * 1.05\n",
    "\n",
    "plt.figure(figsize=(8, 8))\n",
    "plt.title('Actual values vs. Predicted values (Training Data)', size=18)\n",
    "plt.scatter(Y_train, train_y_pred_MA)\n",
    "plt.plot([vmin, vmax], [vmin, vmax], color='grey', linestyle='dashed')\n",
    "plt.xlabel('Actual', size=16)\n",
    "plt.ylabel('Predicted', size=16)\n",
    "plt.show()"
   ]
  },
  {
   "cell_type": "markdown",
   "id": "c6599422-c252-49cc-b40b-b35e3acadb7a",
   "metadata": {},
   "source": [
    "### Ridge / Lasso / ElasticNet Regression ( with CV )"
   ]
  },
  {
   "cell_type": "code",
   "execution_count": 25,
   "id": "0e343bf3-6da7-4dd7-a10a-e234c26918bb",
   "metadata": {},
   "outputs": [
    {
     "name": "stdout",
     "output_type": "stream",
     "text": [
      "{'alpha': 0.0006985879746785249}\n",
      "-0.9837549886177323\n"
     ]
    }
   ],
   "source": [
    "ridge = Ridge()\n",
    "alphas = np.logspace(-4, 0, 200)\n",
    "parameters = {'alpha': alphas }\n",
    "ridge_reg = GridSearchCV(ridge, parameters, scoring='neg_mean_squared_error',cv=5)\n",
    "ridge_reg.fit(X_train_RB,Y_train)\n",
    "print(ridge_reg.best_params_)\n",
    "print(ridge_reg.best_score_)"
   ]
  },
  {
   "cell_type": "code",
   "execution_count": 35,
   "id": "3e37fafa-ecbf-46f7-a8ba-b389c5053c4f",
   "metadata": {},
   "outputs": [
    {
     "data": {
      "image/png": "[encoded data removed]",
      "text/plain": [
       "<Figure size 432x288 with 1 Axes>"
      ]
     },
     "metadata": {
      "needs_background": "light"
     },
     "output_type": "display_data"
    }
   ],
   "source": [
    "train_scores = []\n",
    "test_scores = []\n",
    "\n",
    "for alpha in alphas:\n",
    "    model = Lasso(alpha=alpha)\n",
    "    train_score = -mean_squared_error(Y_test, model.fit(X_train_RB, Y_train).predict(X_test_RB))\n",
    "    test_score = np.mean(cross_val_score(model, X_train_RB, Y_train, scoring=\"neg_mean_squared_error\", cv=5))\n",
    "    train_scores.append(train_score)\n",
    "    test_scores.append(test_score)\n",
    "optimal_alpha = alphas[np.argmax(test_scores)]\n",
    "optimal_score = np.max(test_scores)\n",
    "\n",
    "plt.plot(alphas, test_scores, \"-\", label=\"test \")\n",
    "plt.plot(alphas, train_scores, \"--\", label=\"train\")\n",
    "plt.axhline(optimal_score, linestyle=':')\n",
    "plt.axvline(optimal_alpha, linestyle=':')\n",
    "plt.scatter(optimal_alpha, optimal_score)\n",
    "plt.title(\"Best Regularization\")\n",
    "plt.ylabel('score')\n",
    "plt.xlabel('Regularization')\n",
    "plt.legend()\n",
    "plt.show()"
   ]
  },
  {
   "cell_type": "code",
   "execution_count": 36,
   "id": "53dc94cd-c2ca-4f2b-8014-a5cf8dbbe0e1",
   "metadata": {},
   "outputs": [
    {
     "ename": "KeyboardInterrupt",
     "evalue": "",
     "output_type": "error",
     "traceback": [
      "\u001b[1;31m---------------------------------------------------------------------------\u001b[0m",
      "\u001b[1;31mKeyboardInterrupt\u001b[0m                         Traceback (most recent call last)",
      "\u001b[1;32m<ipython-input-36-7d821f22e204>\u001b[0m in \u001b[0;36m<module>\u001b[1;34m\u001b[0m\n\u001b[0;32m      2\u001b[0m \u001b[0mparameters\u001b[0m \u001b[1;33m=\u001b[0m \u001b[1;33m{\u001b[0m\u001b[1;34m'alpha'\u001b[0m\u001b[1;33m:\u001b[0m \u001b[0malphas\u001b[0m \u001b[1;33m}\u001b[0m\u001b[1;33m\u001b[0m\u001b[1;33m\u001b[0m\u001b[0m\n\u001b[0;32m      3\u001b[0m \u001b[0mlasso_reg\u001b[0m \u001b[1;33m=\u001b[0m \u001b[0mGridSearchCV\u001b[0m\u001b[1;33m(\u001b[0m\u001b[0mlasso\u001b[0m\u001b[1;33m,\u001b[0m \u001b[0mparameters\u001b[0m\u001b[1;33m,\u001b[0m \u001b[0mscoring\u001b[0m\u001b[1;33m=\u001b[0m\u001b[1;34m'neg_mean_squared_error'\u001b[0m\u001b[1;33m,\u001b[0m\u001b[0mcv\u001b[0m\u001b[1;33m=\u001b[0m\u001b[1;36m5\u001b[0m\u001b[1;33m)\u001b[0m\u001b[1;33m\u001b[0m\u001b[1;33m\u001b[0m\u001b[0m\n\u001b[1;32m----> 4\u001b[1;33m \u001b[0mlasso_reg\u001b[0m\u001b[1;33m.\u001b[0m\u001b[0mfit\u001b[0m\u001b[1;33m(\u001b[0m\u001b[0mX_train_RB\u001b[0m\u001b[1;33m,\u001b[0m\u001b[0mY_train\u001b[0m\u001b[1;33m)\u001b[0m\u001b[1;33m\u001b[0m\u001b[1;33m\u001b[0m\u001b[0m\n\u001b[0m\u001b[0;32m      5\u001b[0m \u001b[0mprint\u001b[0m\u001b[1;33m(\u001b[0m\u001b[0mlasso_reg\u001b[0m\u001b[1;33m.\u001b[0m\u001b[0mbest_params_\u001b[0m\u001b[1;33m)\u001b[0m\u001b[1;33m\u001b[0m\u001b[1;33m\u001b[0m\u001b[0m\n\u001b[0;32m      6\u001b[0m \u001b[0mprint\u001b[0m\u001b[1;33m(\u001b[0m\u001b[0mlasso_reg\u001b[0m\u001b[1;33m.\u001b[0m\u001b[0mbest_score_\u001b[0m\u001b[1;33m)\u001b[0m\u001b[1;33m\u001b[0m\u001b[1;33m\u001b[0m\u001b[0m\n",
      "\u001b[1;32mC:\\anaconda3\\lib\\site-packages\\sklearn\\utils\\validation.py\u001b[0m in \u001b[0;36minner_f\u001b[1;34m(*args, **kwargs)\u001b[0m\n\u001b[0;32m     61\u001b[0m             \u001b[0mextra_args\u001b[0m \u001b[1;33m=\u001b[0m \u001b[0mlen\u001b[0m\u001b[1;33m(\u001b[0m\u001b[0margs\u001b[0m\u001b[1;33m)\u001b[0m \u001b[1;33m-\u001b[0m \u001b[0mlen\u001b[0m\u001b[1;33m(\u001b[0m\u001b[0mall_args\u001b[0m\u001b[1;33m)\u001b[0m\u001b[1;33m\u001b[0m\u001b[1;33m\u001b[0m\u001b[0m\n\u001b[0;32m     62\u001b[0m             \u001b[1;32mif\u001b[0m \u001b[0mextra_args\u001b[0m \u001b[1;33m<=\u001b[0m \u001b[1;36m0\u001b[0m\u001b[1;33m:\u001b[0m\u001b[1;33m\u001b[0m\u001b[1;33m\u001b[0m\u001b[0m\n\u001b[1;32m---> 63\u001b[1;33m                 \u001b[1;32mreturn\u001b[0m \u001b[0mf\u001b[0m\u001b[1;33m(\u001b[0m\u001b[1;33m*\u001b[0m\u001b[0margs\u001b[0m\u001b[1;33m,\u001b[0m \u001b[1;33m**\u001b[0m\u001b[0mkwargs\u001b[0m\u001b[1;33m)\u001b[0m\u001b[1;33m\u001b[0m\u001b[1;33m\u001b[0m\u001b[0m\n\u001b[0m\u001b[0;32m     64\u001b[0m \u001b[1;33m\u001b[0m\u001b[0m\n\u001b[0;32m     65\u001b[0m             \u001b[1;31m# extra_args > 0\u001b[0m\u001b[1;33m\u001b[0m\u001b[1;33m\u001b[0m\u001b[1;33m\u001b[0m\u001b[0m\n",
      "\u001b[1;32mC:\\anaconda3\\lib\\site-packages\\sklearn\\model_selection\\_search.py\u001b[0m in \u001b[0;36mfit\u001b[1;34m(self, X, y, groups, **fit_params)\u001b[0m\n\u001b[0;32m    839\u001b[0m                 \u001b[1;32mreturn\u001b[0m \u001b[0mresults\u001b[0m\u001b[1;33m\u001b[0m\u001b[1;33m\u001b[0m\u001b[0m\n\u001b[0;32m    840\u001b[0m \u001b[1;33m\u001b[0m\u001b[0m\n\u001b[1;32m--> 841\u001b[1;33m             \u001b[0mself\u001b[0m\u001b[1;33m.\u001b[0m\u001b[0m_run_search\u001b[0m\u001b[1;33m(\u001b[0m\u001b[0mevaluate_candidates\u001b[0m\u001b[1;33m)\u001b[0m\u001b[1;33m\u001b[0m\u001b[1;33m\u001b[0m\u001b[0m\n\u001b[0m\u001b[0;32m    842\u001b[0m \u001b[1;33m\u001b[0m\u001b[0m\n\u001b[0;32m    843\u001b[0m             \u001b[1;31m# multimetric is determined here because in the case of a callable\u001b[0m\u001b[1;33m\u001b[0m\u001b[1;33m\u001b[0m\u001b[1;33m\u001b[0m\u001b[0m\n",
      "\u001b[1;32mC:\\anaconda3\\lib\\site-packages\\sklearn\\model_selection\\_search.py\u001b[0m in \u001b[0;36m_run_search\u001b[1;34m(self, evaluate_candidates)\u001b[0m\n\u001b[0;32m   1294\u001b[0m     \u001b[1;32mdef\u001b[0m \u001b[0m_run_search\u001b[0m\u001b[1;33m(\u001b[0m\u001b[0mself\u001b[0m\u001b[1;33m,\u001b[0m \u001b[0mevaluate_candidates\u001b[0m\u001b[1;33m)\u001b[0m\u001b[1;33m:\u001b[0m\u001b[1;33m\u001b[0m\u001b[1;33m\u001b[0m\u001b[0m\n\u001b[0;32m   1295\u001b[0m         \u001b[1;34m\"\"\"Search all candidates in param_grid\"\"\"\u001b[0m\u001b[1;33m\u001b[0m\u001b[1;33m\u001b[0m\u001b[0m\n\u001b[1;32m-> 1296\u001b[1;33m         \u001b[0mevaluate_candidates\u001b[0m\u001b[1;33m(\u001b[0m\u001b[0mParameterGrid\u001b[0m\u001b[1;33m(\u001b[0m\u001b[0mself\u001b[0m\u001b[1;33m.\u001b[0m\u001b[0mparam_grid\u001b[0m\u001b[1;33m)\u001b[0m\u001b[1;33m)\u001b[0m\u001b[1;33m\u001b[0m\u001b[1;33m\u001b[0m\u001b[0m\n\u001b[0m\u001b[0;32m   1297\u001b[0m \u001b[1;33m\u001b[0m\u001b[0m\n\u001b[0;32m   1298\u001b[0m \u001b[1;33m\u001b[0m\u001b[0m\n",
      "\u001b[1;32mC:\\anaconda3\\lib\\site-packages\\sklearn\\model_selection\\_search.py\u001b[0m in \u001b[0;36mevaluate_candidates\u001b[1;34m(candidate_params, cv, more_results)\u001b[0m\n\u001b[0;32m    807\u001b[0m                                    (split_idx, (train, test)) in product(\n\u001b[0;32m    808\u001b[0m                                    \u001b[0menumerate\u001b[0m\u001b[1;33m(\u001b[0m\u001b[0mcandidate_params\u001b[0m\u001b[1;33m)\u001b[0m\u001b[1;33m,\u001b[0m\u001b[1;33m\u001b[0m\u001b[1;33m\u001b[0m\u001b[0m\n\u001b[1;32m--> 809\u001b[1;33m                                    enumerate(cv.split(X, y, groups))))\n\u001b[0m\u001b[0;32m    810\u001b[0m \u001b[1;33m\u001b[0m\u001b[0m\n\u001b[0;32m    811\u001b[0m                 \u001b[1;32mif\u001b[0m \u001b[0mlen\u001b[0m\u001b[1;33m(\u001b[0m\u001b[0mout\u001b[0m\u001b[1;33m)\u001b[0m \u001b[1;33m<\u001b[0m \u001b[1;36m1\u001b[0m\u001b[1;33m:\u001b[0m\u001b[1;33m\u001b[0m\u001b[1;33m\u001b[0m\u001b[0m\n",
      "\u001b[1;32mC:\\anaconda3\\lib\\site-packages\\joblib\\parallel.py\u001b[0m in \u001b[0;36m__call__\u001b[1;34m(self, iterable)\u001b[0m\n\u001b[0;32m   1005\u001b[0m                 \u001b[0mself\u001b[0m\u001b[1;33m.\u001b[0m\u001b[0m_iterating\u001b[0m \u001b[1;33m=\u001b[0m \u001b[0mself\u001b[0m\u001b[1;33m.\u001b[0m\u001b[0m_original_iterator\u001b[0m \u001b[1;32mis\u001b[0m \u001b[1;32mnot\u001b[0m \u001b[1;32mNone\u001b[0m\u001b[1;33m\u001b[0m\u001b[1;33m\u001b[0m\u001b[0m\n\u001b[0;32m   1006\u001b[0m \u001b[1;33m\u001b[0m\u001b[0m\n\u001b[1;32m-> 1007\u001b[1;33m             \u001b[1;32mwhile\u001b[0m \u001b[0mself\u001b[0m\u001b[1;33m.\u001b[0m\u001b[0mdispatch_one_batch\u001b[0m\u001b[1;33m(\u001b[0m\u001b[0miterator\u001b[0m\u001b[1;33m)\u001b[0m\u001b[1;33m:\u001b[0m\u001b[1;33m\u001b[0m\u001b[1;33m\u001b[0m\u001b[0m\n\u001b[0m\u001b[0;32m   1008\u001b[0m                 \u001b[1;32mpass\u001b[0m\u001b[1;33m\u001b[0m\u001b[1;33m\u001b[0m\u001b[0m\n\u001b[0;32m   1009\u001b[0m \u001b[1;33m\u001b[0m\u001b[0m\n",
      "\u001b[1;32mC:\\anaconda3\\lib\\site-packages\\joblib\\parallel.py\u001b[0m in \u001b[0;36mdispatch_one_batch\u001b[1;34m(self, iterator)\u001b[0m\n\u001b[0;32m    833\u001b[0m                 \u001b[1;32mreturn\u001b[0m \u001b[1;32mFalse\u001b[0m\u001b[1;33m\u001b[0m\u001b[1;33m\u001b[0m\u001b[0m\n\u001b[0;32m    834\u001b[0m             \u001b[1;32melse\u001b[0m\u001b[1;33m:\u001b[0m\u001b[1;33m\u001b[0m\u001b[1;33m\u001b[0m\u001b[0m\n\u001b[1;32m--> 835\u001b[1;33m                 \u001b[0mself\u001b[0m\u001b[1;33m.\u001b[0m\u001b[0m_dispatch\u001b[0m\u001b[1;33m(\u001b[0m\u001b[0mtasks\u001b[0m\u001b[1;33m)\u001b[0m\u001b[1;33m\u001b[0m\u001b[1;33m\u001b[0m\u001b[0m\n\u001b[0m\u001b[0;32m    836\u001b[0m                 \u001b[1;32mreturn\u001b[0m \u001b[1;32mTrue\u001b[0m\u001b[1;33m\u001b[0m\u001b[1;33m\u001b[0m\u001b[0m\n\u001b[0;32m    837\u001b[0m \u001b[1;33m\u001b[0m\u001b[0m\n",
      "\u001b[1;32mC:\\anaconda3\\lib\\site-packages\\joblib\\parallel.py\u001b[0m in \u001b[0;36m_dispatch\u001b[1;34m(self, batch)\u001b[0m\n\u001b[0;32m    752\u001b[0m         \u001b[1;32mwith\u001b[0m \u001b[0mself\u001b[0m\u001b[1;33m.\u001b[0m\u001b[0m_lock\u001b[0m\u001b[1;33m:\u001b[0m\u001b[1;33m\u001b[0m\u001b[1;33m\u001b[0m\u001b[0m\n\u001b[0;32m    753\u001b[0m             \u001b[0mjob_idx\u001b[0m \u001b[1;33m=\u001b[0m \u001b[0mlen\u001b[0m\u001b[1;33m(\u001b[0m\u001b[0mself\u001b[0m\u001b[1;33m.\u001b[0m\u001b[0m_jobs\u001b[0m\u001b[1;33m)\u001b[0m\u001b[1;33m\u001b[0m\u001b[1;33m\u001b[0m\u001b[0m\n\u001b[1;32m--> 754\u001b[1;33m             \u001b[0mjob\u001b[0m \u001b[1;33m=\u001b[0m \u001b[0mself\u001b[0m\u001b[1;33m.\u001b[0m\u001b[0m_backend\u001b[0m\u001b[1;33m.\u001b[0m\u001b[0mapply_async\u001b[0m\u001b[1;33m(\u001b[0m\u001b[0mbatch\u001b[0m\u001b[1;33m,\u001b[0m \u001b[0mcallback\u001b[0m\u001b[1;33m=\u001b[0m\u001b[0mcb\u001b[0m\u001b[1;33m)\u001b[0m\u001b[1;33m\u001b[0m\u001b[1;33m\u001b[0m\u001b[0m\n\u001b[0m\u001b[0;32m    755\u001b[0m             \u001b[1;31m# A job can complete so quickly than its callback is\u001b[0m\u001b[1;33m\u001b[0m\u001b[1;33m\u001b[0m\u001b[1;33m\u001b[0m\u001b[0m\n\u001b[0;32m    756\u001b[0m             \u001b[1;31m# called before we get here, causing self._jobs to\u001b[0m\u001b[1;33m\u001b[0m\u001b[1;33m\u001b[0m\u001b[1;33m\u001b[0m\u001b[0m\n",
      "\u001b[1;32mC:\\anaconda3\\lib\\site-packages\\joblib\\_parallel_backends.py\u001b[0m in \u001b[0;36mapply_async\u001b[1;34m(self, func, callback)\u001b[0m\n\u001b[0;32m    207\u001b[0m     \u001b[1;32mdef\u001b[0m \u001b[0mapply_async\u001b[0m\u001b[1;33m(\u001b[0m\u001b[0mself\u001b[0m\u001b[1;33m,\u001b[0m \u001b[0mfunc\u001b[0m\u001b[1;33m,\u001b[0m \u001b[0mcallback\u001b[0m\u001b[1;33m=\u001b[0m\u001b[1;32mNone\u001b[0m\u001b[1;33m)\u001b[0m\u001b[1;33m:\u001b[0m\u001b[1;33m\u001b[0m\u001b[1;33m\u001b[0m\u001b[0m\n\u001b[0;32m    208\u001b[0m         \u001b[1;34m\"\"\"Schedule a func to be run\"\"\"\u001b[0m\u001b[1;33m\u001b[0m\u001b[1;33m\u001b[0m\u001b[0m\n\u001b[1;32m--> 209\u001b[1;33m         \u001b[0mresult\u001b[0m \u001b[1;33m=\u001b[0m \u001b[0mImmediateResult\u001b[0m\u001b[1;33m(\u001b[0m\u001b[0mfunc\u001b[0m\u001b[1;33m)\u001b[0m\u001b[1;33m\u001b[0m\u001b[1;33m\u001b[0m\u001b[0m\n\u001b[0m\u001b[0;32m    210\u001b[0m         \u001b[1;32mif\u001b[0m \u001b[0mcallback\u001b[0m\u001b[1;33m:\u001b[0m\u001b[1;33m\u001b[0m\u001b[1;33m\u001b[0m\u001b[0m\n\u001b[0;32m    211\u001b[0m             \u001b[0mcallback\u001b[0m\u001b[1;33m(\u001b[0m\u001b[0mresult\u001b[0m\u001b[1;33m)\u001b[0m\u001b[1;33m\u001b[0m\u001b[1;33m\u001b[0m\u001b[0m\n",
      "\u001b[1;32mC:\\anaconda3\\lib\\site-packages\\joblib\\_parallel_backends.py\u001b[0m in \u001b[0;36m__init__\u001b[1;34m(self, batch)\u001b[0m\n\u001b[0;32m    588\u001b[0m         \u001b[1;31m# Don't delay the application, to avoid keeping the input\u001b[0m\u001b[1;33m\u001b[0m\u001b[1;33m\u001b[0m\u001b[1;33m\u001b[0m\u001b[0m\n\u001b[0;32m    589\u001b[0m         \u001b[1;31m# arguments in memory\u001b[0m\u001b[1;33m\u001b[0m\u001b[1;33m\u001b[0m\u001b[1;33m\u001b[0m\u001b[0m\n\u001b[1;32m--> 590\u001b[1;33m         \u001b[0mself\u001b[0m\u001b[1;33m.\u001b[0m\u001b[0mresults\u001b[0m \u001b[1;33m=\u001b[0m \u001b[0mbatch\u001b[0m\u001b[1;33m(\u001b[0m\u001b[1;33m)\u001b[0m\u001b[1;33m\u001b[0m\u001b[1;33m\u001b[0m\u001b[0m\n\u001b[0m\u001b[0;32m    591\u001b[0m \u001b[1;33m\u001b[0m\u001b[0m\n\u001b[0;32m    592\u001b[0m     \u001b[1;32mdef\u001b[0m \u001b[0mget\u001b[0m\u001b[1;33m(\u001b[0m\u001b[0mself\u001b[0m\u001b[1;33m)\u001b[0m\u001b[1;33m:\u001b[0m\u001b[1;33m\u001b[0m\u001b[1;33m\u001b[0m\u001b[0m\n",
      "\u001b[1;32mC:\\anaconda3\\lib\\site-packages\\joblib\\parallel.py\u001b[0m in \u001b[0;36m__call__\u001b[1;34m(self)\u001b[0m\n\u001b[0;32m    254\u001b[0m         \u001b[1;32mwith\u001b[0m \u001b[0mparallel_backend\u001b[0m\u001b[1;33m(\u001b[0m\u001b[0mself\u001b[0m\u001b[1;33m.\u001b[0m\u001b[0m_backend\u001b[0m\u001b[1;33m,\u001b[0m \u001b[0mn_jobs\u001b[0m\u001b[1;33m=\u001b[0m\u001b[0mself\u001b[0m\u001b[1;33m.\u001b[0m\u001b[0m_n_jobs\u001b[0m\u001b[1;33m)\u001b[0m\u001b[1;33m:\u001b[0m\u001b[1;33m\u001b[0m\u001b[1;33m\u001b[0m\u001b[0m\n\u001b[0;32m    255\u001b[0m             return [func(*args, **kwargs)\n\u001b[1;32m--> 256\u001b[1;33m                     for func, args, kwargs in self.items]\n\u001b[0m\u001b[0;32m    257\u001b[0m \u001b[1;33m\u001b[0m\u001b[0m\n\u001b[0;32m    258\u001b[0m     \u001b[1;32mdef\u001b[0m \u001b[0m__len__\u001b[0m\u001b[1;33m(\u001b[0m\u001b[0mself\u001b[0m\u001b[1;33m)\u001b[0m\u001b[1;33m:\u001b[0m\u001b[1;33m\u001b[0m\u001b[1;33m\u001b[0m\u001b[0m\n",
      "\u001b[1;32mC:\\anaconda3\\lib\\site-packages\\joblib\\parallel.py\u001b[0m in \u001b[0;36m<listcomp>\u001b[1;34m(.0)\u001b[0m\n\u001b[0;32m    254\u001b[0m         \u001b[1;32mwith\u001b[0m \u001b[0mparallel_backend\u001b[0m\u001b[1;33m(\u001b[0m\u001b[0mself\u001b[0m\u001b[1;33m.\u001b[0m\u001b[0m_backend\u001b[0m\u001b[1;33m,\u001b[0m \u001b[0mn_jobs\u001b[0m\u001b[1;33m=\u001b[0m\u001b[0mself\u001b[0m\u001b[1;33m.\u001b[0m\u001b[0m_n_jobs\u001b[0m\u001b[1;33m)\u001b[0m\u001b[1;33m:\u001b[0m\u001b[1;33m\u001b[0m\u001b[1;33m\u001b[0m\u001b[0m\n\u001b[0;32m    255\u001b[0m             return [func(*args, **kwargs)\n\u001b[1;32m--> 256\u001b[1;33m                     for func, args, kwargs in self.items]\n\u001b[0m\u001b[0;32m    257\u001b[0m \u001b[1;33m\u001b[0m\u001b[0m\n\u001b[0;32m    258\u001b[0m     \u001b[1;32mdef\u001b[0m \u001b[0m__len__\u001b[0m\u001b[1;33m(\u001b[0m\u001b[0mself\u001b[0m\u001b[1;33m)\u001b[0m\u001b[1;33m:\u001b[0m\u001b[1;33m\u001b[0m\u001b[1;33m\u001b[0m\u001b[0m\n",
      "\u001b[1;32mC:\\anaconda3\\lib\\site-packages\\sklearn\\utils\\fixes.py\u001b[0m in \u001b[0;36m__call__\u001b[1;34m(self, *args, **kwargs)\u001b[0m\n\u001b[0;32m    220\u001b[0m     \u001b[1;32mdef\u001b[0m \u001b[0m__call__\u001b[0m\u001b[1;33m(\u001b[0m\u001b[0mself\u001b[0m\u001b[1;33m,\u001b[0m \u001b[1;33m*\u001b[0m\u001b[0margs\u001b[0m\u001b[1;33m,\u001b[0m \u001b[1;33m**\u001b[0m\u001b[0mkwargs\u001b[0m\u001b[1;33m)\u001b[0m\u001b[1;33m:\u001b[0m\u001b[1;33m\u001b[0m\u001b[1;33m\u001b[0m\u001b[0m\n\u001b[0;32m    221\u001b[0m         \u001b[1;32mwith\u001b[0m \u001b[0mconfig_context\u001b[0m\u001b[1;33m(\u001b[0m\u001b[1;33m**\u001b[0m\u001b[0mself\u001b[0m\u001b[1;33m.\u001b[0m\u001b[0mconfig\u001b[0m\u001b[1;33m)\u001b[0m\u001b[1;33m:\u001b[0m\u001b[1;33m\u001b[0m\u001b[1;33m\u001b[0m\u001b[0m\n\u001b[1;32m--> 222\u001b[1;33m             \u001b[1;32mreturn\u001b[0m \u001b[0mself\u001b[0m\u001b[1;33m.\u001b[0m\u001b[0mfunction\u001b[0m\u001b[1;33m(\u001b[0m\u001b[1;33m*\u001b[0m\u001b[0margs\u001b[0m\u001b[1;33m,\u001b[0m \u001b[1;33m**\u001b[0m\u001b[0mkwargs\u001b[0m\u001b[1;33m)\u001b[0m\u001b[1;33m\u001b[0m\u001b[1;33m\u001b[0m\u001b[0m\n\u001b[0m",
      "\u001b[1;32mC:\\anaconda3\\lib\\site-packages\\sklearn\\model_selection\\_validation.py\u001b[0m in \u001b[0;36m_fit_and_score\u001b[1;34m(estimator, X, y, scorer, train, test, verbose, parameters, fit_params, return_train_score, return_parameters, return_n_test_samples, return_times, return_estimator, split_progress, candidate_progress, error_score)\u001b[0m\n\u001b[0;32m    596\u001b[0m             \u001b[0mestimator\u001b[0m\u001b[1;33m.\u001b[0m\u001b[0mfit\u001b[0m\u001b[1;33m(\u001b[0m\u001b[0mX_train\u001b[0m\u001b[1;33m,\u001b[0m \u001b[1;33m**\u001b[0m\u001b[0mfit_params\u001b[0m\u001b[1;33m)\u001b[0m\u001b[1;33m\u001b[0m\u001b[1;33m\u001b[0m\u001b[0m\n\u001b[0;32m    597\u001b[0m         \u001b[1;32melse\u001b[0m\u001b[1;33m:\u001b[0m\u001b[1;33m\u001b[0m\u001b[1;33m\u001b[0m\u001b[0m\n\u001b[1;32m--> 598\u001b[1;33m             \u001b[0mestimator\u001b[0m\u001b[1;33m.\u001b[0m\u001b[0mfit\u001b[0m\u001b[1;33m(\u001b[0m\u001b[0mX_train\u001b[0m\u001b[1;33m,\u001b[0m \u001b[0my_train\u001b[0m\u001b[1;33m,\u001b[0m \u001b[1;33m**\u001b[0m\u001b[0mfit_params\u001b[0m\u001b[1;33m)\u001b[0m\u001b[1;33m\u001b[0m\u001b[1;33m\u001b[0m\u001b[0m\n\u001b[0m\u001b[0;32m    599\u001b[0m \u001b[1;33m\u001b[0m\u001b[0m\n\u001b[0;32m    600\u001b[0m     \u001b[1;32mexcept\u001b[0m \u001b[0mException\u001b[0m \u001b[1;32mas\u001b[0m \u001b[0me\u001b[0m\u001b[1;33m:\u001b[0m\u001b[1;33m\u001b[0m\u001b[1;33m\u001b[0m\u001b[0m\n",
      "\u001b[1;32mC:\\anaconda3\\lib\\site-packages\\sklearn\\linear_model\\_coordinate_descent.py\u001b[0m in \u001b[0;36mfit\u001b[1;34m(self, X, y, sample_weight, check_input)\u001b[0m\n\u001b[0;32m    853\u001b[0m                           \u001b[0mrandom_state\u001b[0m\u001b[1;33m=\u001b[0m\u001b[0mself\u001b[0m\u001b[1;33m.\u001b[0m\u001b[0mrandom_state\u001b[0m\u001b[1;33m,\u001b[0m\u001b[1;33m\u001b[0m\u001b[1;33m\u001b[0m\u001b[0m\n\u001b[0;32m    854\u001b[0m                           \u001b[0mselection\u001b[0m\u001b[1;33m=\u001b[0m\u001b[0mself\u001b[0m\u001b[1;33m.\u001b[0m\u001b[0mselection\u001b[0m\u001b[1;33m,\u001b[0m\u001b[1;33m\u001b[0m\u001b[1;33m\u001b[0m\u001b[0m\n\u001b[1;32m--> 855\u001b[1;33m                           check_input=False)\n\u001b[0m\u001b[0;32m    856\u001b[0m             \u001b[0mcoef_\u001b[0m\u001b[1;33m[\u001b[0m\u001b[0mk\u001b[0m\u001b[1;33m]\u001b[0m \u001b[1;33m=\u001b[0m \u001b[0mthis_coef\u001b[0m\u001b[1;33m[\u001b[0m\u001b[1;33m:\u001b[0m\u001b[1;33m,\u001b[0m \u001b[1;36m0\u001b[0m\u001b[1;33m]\u001b[0m\u001b[1;33m\u001b[0m\u001b[1;33m\u001b[0m\u001b[0m\n\u001b[0;32m    857\u001b[0m             \u001b[0mdual_gaps_\u001b[0m\u001b[1;33m[\u001b[0m\u001b[0mk\u001b[0m\u001b[1;33m]\u001b[0m \u001b[1;33m=\u001b[0m \u001b[0mthis_dual_gap\u001b[0m\u001b[1;33m[\u001b[0m\u001b[1;36m0\u001b[0m\u001b[1;33m]\u001b[0m\u001b[1;33m\u001b[0m\u001b[1;33m\u001b[0m\u001b[0m\n",
      "\u001b[1;32mC:\\anaconda3\\lib\\site-packages\\sklearn\\utils\\validation.py\u001b[0m in \u001b[0;36minner_f\u001b[1;34m(*args, **kwargs)\u001b[0m\n\u001b[0;32m     61\u001b[0m             \u001b[0mextra_args\u001b[0m \u001b[1;33m=\u001b[0m \u001b[0mlen\u001b[0m\u001b[1;33m(\u001b[0m\u001b[0margs\u001b[0m\u001b[1;33m)\u001b[0m \u001b[1;33m-\u001b[0m \u001b[0mlen\u001b[0m\u001b[1;33m(\u001b[0m\u001b[0mall_args\u001b[0m\u001b[1;33m)\u001b[0m\u001b[1;33m\u001b[0m\u001b[1;33m\u001b[0m\u001b[0m\n\u001b[0;32m     62\u001b[0m             \u001b[1;32mif\u001b[0m \u001b[0mextra_args\u001b[0m \u001b[1;33m<=\u001b[0m \u001b[1;36m0\u001b[0m\u001b[1;33m:\u001b[0m\u001b[1;33m\u001b[0m\u001b[1;33m\u001b[0m\u001b[0m\n\u001b[1;32m---> 63\u001b[1;33m                 \u001b[1;32mreturn\u001b[0m \u001b[0mf\u001b[0m\u001b[1;33m(\u001b[0m\u001b[1;33m*\u001b[0m\u001b[0margs\u001b[0m\u001b[1;33m,\u001b[0m \u001b[1;33m**\u001b[0m\u001b[0mkwargs\u001b[0m\u001b[1;33m)\u001b[0m\u001b[1;33m\u001b[0m\u001b[1;33m\u001b[0m\u001b[0m\n\u001b[0m\u001b[0;32m     64\u001b[0m \u001b[1;33m\u001b[0m\u001b[0m\n\u001b[0;32m     65\u001b[0m             \u001b[1;31m# extra_args > 0\u001b[0m\u001b[1;33m\u001b[0m\u001b[1;33m\u001b[0m\u001b[1;33m\u001b[0m\u001b[0m\n",
      "\u001b[1;32mC:\\anaconda3\\lib\\site-packages\\sklearn\\linear_model\\_coordinate_descent.py\u001b[0m in \u001b[0;36menet_path\u001b[1;34m(X, y, l1_ratio, eps, n_alphas, alphas, precompute, Xy, copy_X, coef_init, verbose, return_n_iter, positive, check_input, **params)\u001b[0m\n\u001b[0;32m    530\u001b[0m             model = cd_fast.enet_coordinate_descent(\n\u001b[0;32m    531\u001b[0m                 \u001b[0mcoef_\u001b[0m\u001b[1;33m,\u001b[0m \u001b[0ml1_reg\u001b[0m\u001b[1;33m,\u001b[0m \u001b[0ml2_reg\u001b[0m\u001b[1;33m,\u001b[0m \u001b[0mX\u001b[0m\u001b[1;33m,\u001b[0m \u001b[0my\u001b[0m\u001b[1;33m,\u001b[0m \u001b[0mmax_iter\u001b[0m\u001b[1;33m,\u001b[0m \u001b[0mtol\u001b[0m\u001b[1;33m,\u001b[0m \u001b[0mrng\u001b[0m\u001b[1;33m,\u001b[0m \u001b[0mrandom\u001b[0m\u001b[1;33m,\u001b[0m\u001b[1;33m\u001b[0m\u001b[1;33m\u001b[0m\u001b[0m\n\u001b[1;32m--> 532\u001b[1;33m                 positive)\n\u001b[0m\u001b[0;32m    533\u001b[0m         \u001b[1;32melse\u001b[0m\u001b[1;33m:\u001b[0m\u001b[1;33m\u001b[0m\u001b[1;33m\u001b[0m\u001b[0m\n\u001b[0;32m    534\u001b[0m             raise ValueError(\"Precompute should be one of True, False, \"\n",
      "\u001b[1;31mKeyboardInterrupt\u001b[0m: "
     ]
    }
   ],
   "source": [
    "lasso = Lasso()\n",
    "parameters = {'alpha': alphas }\n",
    "lasso_reg = GridSearchCV(lasso, parameters, scoring='neg_mean_squared_error',cv=5)\n",
    "lasso_reg.fit(X_train_RB,Y_train)\n",
    "print(lasso_reg.best_params_)\n",
    "print(lasso_reg.best_score_)"
   ]
  },
  {
   "cell_type": "code",
   "execution_count": null,
   "id": "ca8078c8-e0b8-4d3f-9c81-3ea96860a6f4",
   "metadata": {},
   "outputs": [],
   "source": [
    "elasticnet = ElasticNet()\n",
    "parameters = {'alpha': alphas }\n",
    "\n",
    "elasticnet_reg = GridSearchCV(elasticnet, parameters, scoring='neg_mean_squared_error',cv=5)\n",
    "elasticnet_reg.fit(X_train_RB, Y_train)\n",
    "print(elasticnet_reg.best_params_)\n",
    "print(elasticnet_reg.best_score_)"
   ]
  },
  {
   "cell_type": "code",
   "execution_count": null,
   "id": "ce8c8703-e511-4f88-bdcf-33c394943066",
   "metadata": {},
   "outputs": [],
   "source": []
  },
  {
   "cell_type": "markdown",
   "id": "6603859f-4377-4118-9926-f3386855cc7a",
   "metadata": {},
   "source": [
    "### Decision tree"
   ]
  },
  {
   "cell_type": "code",
   "execution_count": 31,
   "id": "8977be04-bad8-4555-834c-c97a25689f0c",
   "metadata": {},
   "outputs": [
    {
     "name": "stdout",
     "output_type": "stream",
     "text": [
      "[1, 2, 3, 4, 5, 6, 7, 8, 9, 10, 11, 12, 13, 14, 15, 16, 17, 18, 19, None]\n"
     ]
    }
   ],
   "source": [
    "max_depths = list(range(1, 20)) + [None]\n",
    "print(max_depths)\n",
    "\n",
    "rmse_valid = []\n",
    "mae_valid = []"
   ]
  },
  {
   "cell_type": "code",
   "execution_count": 32,
   "id": "f312ab10-f51f-4c51-9c25-c4ea08346287",
   "metadata": {},
   "outputs": [],
   "source": [
    "for max_depth in max_depths:\n",
    "                     \n",
    "    # 모델 학습\n",
    "    model = DecisionTreeRegressor(max_depth=max_depth)\n",
    "    model.fit(X_train_RB, Y_train)\n",
    "    \n",
    "    # validation 예측\n",
    "    y_valid_pred = model.predict(X_valid_RB)\n",
    "    \n",
    "    # 모델 평가 결과 저장\n",
    "    rmse = np.sqrt(mean_squared_error(Y_valid, y_valid_pred))\n",
    "    mae = mean_absolute_error(Y_valid, y_valid_pred)\n",
    "    \n",
    "    rmse_valid.append(rmse)\n",
    "    mae_valid.append(mae)"
   ]
  },
  {
   "cell_type": "code",
   "execution_count": 33,
   "id": "07e32df7-6192-4b99-a8b8-61953edb0801",
   "metadata": {},
   "outputs": [
    {
     "name": "stdout",
     "output_type": "stream",
     "text": [
      "['1', '2', '3', '4', '5', '6', '7', '8', '9', '10', '11', '12', '13', '14', '15', '16', '17', '18', '19', 'None']\n"
     ]
    }
   ],
   "source": [
    "xticks = list(map(str, max_depths))\n",
    "print(xticks)"
   ]
  },
  {
   "cell_type": "code",
   "execution_count": 34,
   "id": "064e8449-bfaf-48d4-a121-44754b246177",
   "metadata": {},
   "outputs": [
    {
     "data": {
      "image/png": "[encoded data removed]",
      "text/plain": [
       "<Figure size 1080x432 with 2 Axes>"
      ]
     },
     "metadata": {
      "needs_background": "light"
     },
     "output_type": "display_data"
    }
   ],
   "source": [
    "fig, ax = plt.subplots(figsize=(15, 6))\n",
    "\n",
    "ax.plot(range(len(max_depths)), rmse_valid, color='red', marker='o')\n",
    "ax.set_ylabel('RMSE', color='red', fontsize=12)\n",
    "\n",
    "ax2 = ax.twinx()\n",
    "ax2.plot(range(len(max_depths)), mae_valid, color='blue', marker='s')\n",
    "ax2.set_ylabel('MAE', color='blue', fontsize=12)\n",
    "\n",
    "plt.xticks(range(len(max_depths)), xticks)\n",
    "plt.show()"
   ]
  },
  {
   "cell_type": "markdown",
   "id": "005acba2-f090-4224-b255-80ba612bbc60",
   "metadata": {},
   "source": [
    "* Random forest trees"
   ]
  },
  {
   "cell_type": "code",
   "execution_count": null,
   "id": "60ef7a2b-59d6-4f78-ae0a-dc77c2d2ee54",
   "metadata": {},
   "outputs": [],
   "source": []
  },
  {
   "cell_type": "markdown",
   "id": "dd2fa355-e062-409f-a7cc-a319aff7129f",
   "metadata": {},
   "source": [
    "* Gradient boosted trees"
   ]
  },
  {
   "cell_type": "code",
   "execution_count": null,
   "id": "b9b85ee1-c90c-4a4b-86b0-ece05eed2681",
   "metadata": {},
   "outputs": [],
   "source": []
  },
  {
   "cell_type": "markdown",
   "id": "e4f7c49c-398a-4929-b5cb-4e78bbcffaa0",
   "metadata": {},
   "source": [
    "* MLP Regressor"
   ]
  },
  {
   "cell_type": "code",
   "execution_count": null,
   "id": "639c5f80-1be7-43d8-aa9c-76a8c6a5a83d",
   "metadata": {},
   "outputs": [],
   "source": []
  },
  {
   "cell_type": "code",
   "execution_count": null,
   "id": "9506de56-6608-436c-9e50-127ed8be03b5",
   "metadata": {},
   "outputs": [],
   "source": []
  },
  {
   "cell_type": "markdown",
   "id": "elementary-portfolio",
   "metadata": {},
   "source": [
    "## 테스트 데이터셋 성능 평가"
   ]
  },
  {
   "cell_type": "code",
   "execution_count": null,
   "id": "alert-flour",
   "metadata": {},
   "outputs": [],
   "source": [
    "# 학습 데이터 실제 값\n",
    "test_true = test_data['MEDV']\n",
    "\n",
    "# 학습 데이터 예측 값\n",
    "test_pred = lm_trained.predict(test_data.drop(['MEDV'], axis=1))\n",
    "\n",
    "MSE_value = mean_squared_error(test_true, test_pred)\n",
    "RMSE_value = np.sqrt(mean_squared_error(test_true, test_pred))\n",
    "MAE_value = mean_absolute_error(test_true, test_pred)\n",
    "MAPE_value = mean_absolute_percentage_error(test_true, test_pred)\n",
    "r2_value = r2_score(test_true, test_pred)\n",
    "\n",
    "print(\"Testing MSE : {:.3f}\".format(MSE_value))\n",
    "print(\"Testing RMSE : {:.3f}\".format(RMSE_value))\n",
    "print(\"Testing MAE : {:.3f}\".format(MAE_value))\n",
    "print(\"Testing MAPE : {:.3f}\".format(MAPE_value))\n",
    "print(\"Testing R2 : {:.3f}\".format(r2_value))"
   ]
  },
  {
   "cell_type": "markdown",
   "id": "alike-knight",
   "metadata": {},
   "source": [
    "## 변수 선별"
   ]
  },
  {
   "cell_type": "code",
   "execution_count": null,
   "id": "fundamental-flavor",
   "metadata": {},
   "outputs": [],
   "source": [
    "# 제거할 변수 이름\n",
    "drop_var = \n",
    "\n",
    "# 설정한 변수 제거\n",
    "train_data_new = train_data.drop(drop_var, axis=1)\n",
    "test_data_new = test_data.drop(drop_var, axis=1)"
   ]
  },
  {
   "cell_type": "markdown",
   "id": "durable-moore",
   "metadata": {},
   "source": [
    "- 테스트 데이터 성능 평가"
   ]
  },
  {
   "cell_type": "code",
   "execution_count": null,
   "id": "bc35ca1c-83e0-49ae-b821-b1bdd980a686",
   "metadata": {},
   "outputs": [],
   "source": [
    "# 변수가 제거된 데이터로 학습\n",
    "lm_new = sm.OLS(train_data_new['MEDV'], train_data_new.drop('MEDV', axis=1))\n",
    "lm_new_trained = lm_new.fit()\n",
    "display(lm_new_trained.summary())"
   ]
  },
  {
   "cell_type": "code",
   "execution_count": null,
   "id": "closing-conclusion",
   "metadata": {},
   "outputs": [],
   "source": [
    "# 학습 데이터 실제 값\n",
    "test_true = test_data_new['MEDV']\n",
    "\n",
    "# 학습 데이터 예측 값\n",
    "test_pred = lm_new_trained.predict(test_data_new.drop(['MEDV'], axis=1))\n",
    "\n",
    "new_MSE_value = mean_squared_error(test_true, test_pred)\n",
    "new_RMSE_value = np.sqrt(mean_squared_error(test_true, test_pred))\n",
    "new_MAE_value = mean_absolute_error(test_true, test_pred)\n",
    "new_MAPE_value = mean_absolute_percentage_error(test_true, test_pred)\n",
    "new_r2_value = r2_score(test_true, test_pred)\n",
    "\n",
    "print('Testing MSE: {:.3f} → {:.3f}'.format(MSE_value, new_MSE_value))\n",
    "print('Testing RMSE: {:.3f} → {:.3f}'.format(RMSE_value, new_RMSE_value))\n",
    "print('Testing MAE: {:.3f} → {:.3f}'.format(MAE_value, new_MAE_value))\n",
    "print('Testing MAPE: {:.3f} → {:.3f}'.format(MAPE_value, new_MAPE_value))\n",
    "print('Testing R2: {:.3f} → {:.3f}'.format(r2_value, new_r2_value))"
   ]
  },
  {
   "cell_type": "markdown",
   "id": "unsigned-guess",
   "metadata": {},
   "source": [
    "* 상관계수가 높은 변수 제거하기"
   ]
  },
  {
   "cell_type": "code",
   "execution_count": null,
   "id": "strategic-miracle",
   "metadata": {},
   "outputs": [],
   "source": [
    "plt.figure(figsize=(10, 9))\n",
    "sns.heatmap(data.corr(), cmap=sns.color_palette(\"coolwarm\", 10), annot=True)\n",
    "plt.show()"
   ]
  },
  {
   "cell_type": "code",
   "execution_count": null,
   "id": "continuous-neutral",
   "metadata": {},
   "outputs": [],
   "source": [
    "# 제거할 변수 이름\n",
    "drop_var = \"TAX\"\n",
    "\n",
    "# 설정한 변수 제거\n",
    "train_data_new = train_data.drop(drop_var, axis=1)\n",
    "test_data_new = test_data.drop(drop_var, axis=1)"
   ]
  },
  {
   "cell_type": "code",
   "execution_count": null,
   "id": "0af12185-ce78-4f93-9df6-b3bc83aa5373",
   "metadata": {},
   "outputs": [],
   "source": [
    "# 변수가 제거된 데이터로 학습\n",
    "lm_new = sm.OLS(train_data_new['MEDV'], train_data_new.drop('MEDV', axis=1))\n",
    "lm_new_trained = lm_new.fit()\n",
    "\n",
    "display(lm_new_trained.summary())"
   ]
  },
  {
   "cell_type": "code",
   "execution_count": null,
   "id": "fifteen-characterization",
   "metadata": {},
   "outputs": [],
   "source": [
    "# 학습 데이터 실제 값\n",
    "test_true = test_data_new['MEDV']\n",
    "\n",
    "# 학습 데이터 예측 값\n",
    "test_pred = lm_new_trained.predict(test_data_new.drop(['MEDV'], axis=1))\n",
    "\n",
    "new_MSE_value = mean_squared_error(test_true, test_pred)\n",
    "new_RMSE_value = np.sqrt(mean_squared_error(test_true, test_pred))\n",
    "new_MAE_value = mean_absolute_error(test_true, test_pred)\n",
    "new_MAPE_value = mean_absolute_percentage_error(test_true, test_pred)\n",
    "new_r2_value = r2_score(test_true, test_pred)\n",
    "\n",
    "print('Testing MSE: {:.3f} → {:.3f}'.format(MSE_value, new_MSE_value))\n",
    "print('Testing RMSE: {:.3f} → {:.3f}'.format(RMSE_value, new_RMSE_value))\n",
    "print('Testing MAE: {:.3f} → {:.3f}'.format(MAE_value, new_MAE_value))\n",
    "print('Testing MAPE: {:.3f} → {:.3f}'.format(MAPE_value, new_MAPE_value))\n",
    "print('Testing R2: {:.3f} → {:.3f}'.format(r2_value, new_r2_value))"
   ]
  },
  {
   "cell_type": "code",
   "execution_count": null,
   "id": "11b8b5c7-e56d-44c2-9639-3d8f955e6452",
   "metadata": {},
   "outputs": [],
   "source": []
  },
  {
   "cell_type": "code",
   "execution_count": null,
   "id": "cf25c85e-e5dd-46b8-82fb-ada08cb81f95",
   "metadata": {},
   "outputs": [],
   "source": []
  },
  {
   "cell_type": "code",
   "execution_count": null,
   "id": "488792af-99cb-47ba-a1b6-9d28c8dd5dcd",
   "metadata": {},
   "outputs": [],
   "source": []
  },
  {
   "cell_type": "code",
   "execution_count": null,
   "id": "10b9aa8c-8d91-4598-b79a-140cdf6dad0d",
   "metadata": {},
   "outputs": [],
   "source": []
  },
  {
   "cell_type": "code",
   "execution_count": null,
   "id": "a01d64e2-841b-4c3f-8689-8e4220b8e358",
   "metadata": {},
   "outputs": [],
   "source": []
  },
  {
   "cell_type": "code",
   "execution_count": null,
   "id": "36964a95-e793-4613-88b6-229b5531c4f5",
   "metadata": {},
   "outputs": [],
   "source": []
  },
  {
   "cell_type": "code",
   "execution_count": null,
   "id": "ec902b54-1787-493d-80be-b9f668e3ce36",
   "metadata": {},
   "outputs": [],
   "source": []
  },
  {
   "cell_type": "code",
   "execution_count": null,
   "id": "089d8f94-5fd3-440a-9175-c83eade18254",
   "metadata": {},
   "outputs": [],
   "source": []
  },
  {
   "cell_type": "code",
   "execution_count": null,
   "id": "1cf4f7af-dfcd-414c-be2c-9704cbef15db",
   "metadata": {},
   "outputs": [],
   "source": []
  },
  {
   "cell_type": "code",
   "execution_count": null,
   "id": "455c0687-93d5-4eba-ab6b-c36fefdb63d3",
   "metadata": {},
   "outputs": [],
   "source": []
  },
  {
   "cell_type": "code",
   "execution_count": null,
   "id": "90a1d57e-6eee-48e6-8d26-06e715dd59de",
   "metadata": {},
   "outputs": [],
   "source": []
  },
  {
   "cell_type": "code",
   "execution_count": null,
   "id": "fffea27e-a454-43ab-a941-0f91b4292e83",
   "metadata": {},
   "outputs": [],
   "source": []
  }
 ],
 "metadata": {
  "kernelspec": {
   "display_name": "Python 3",
   "language": "python",
   "name": "python3"
  },
  "language_info": {
   "codemirror_mode": {
    "name": "ipython",
    "version": 3
   },
   "file_extension": ".py",
   "mimetype": "text/x-python",
   "name": "python",
   "nbconvert_exporter": "python",
   "pygments_lexer": "ipython3",
   "version": "3.7.6"
  }
 },
 "nbformat": 4,
 "nbformat_minor": 5
}
