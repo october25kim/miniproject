{
 "cells": [
  {
   "cell_type": "markdown",
   "id": "alpine-mambo",
   "metadata": {},
   "source": [
    "210803 - Korea Univ. Machine Learning Mini Project"
   ]
  },
  {
   "cell_type": "code",
   "execution_count": 37,
   "id": "alternative-contributor",
   "metadata": {},
   "outputs": [],
   "source": [
    "# 데이터 전처리 패키지\n",
    "import numpy as np\n",
    "import pandas as pd\n",
    "\n",
    "# 기계학습 모델 구축 및 평가 패키지\n",
    "import statsmodels.api as sm\n",
    "from statsmodels.formula.api import ols\n",
    "\n",
    "from sklearn.preprocessing import StandardScaler,MinMaxScaler, MaxAbsScaler,RobustScaler\n",
    "from sklearn.metrics import mean_squared_error, r2_score, mean_absolute_error\n",
    "from sklearn.model_selection import train_test_split\n",
    "\n",
    "# 데이터 시각화 패키지\n",
    "import seaborn as sns\n",
    "import matplotlib.pyplot as plt\n",
    "import matplotlib.font_manager as fm\n",
    "import statsmodels.api as sm\n",
    "from statsmodels.formula.api import ols\n",
    "from collections import Counter\n",
    "\n",
    "# 경고 숨기기\n",
    "import warnings\n",
    "warnings.filterwarnings(action='ignore')\n",
    "\n",
    "from sklearn.linear_model import LinearRegression\n",
    "\n",
    "# MAPE def.\n",
    "def mean_absolute_percentage_error(y_true, y_pred):\n",
    "    y_true, y_pred = np.array(y_true), np.array(y_pred)\n",
    "    return np.mean(np.abs((y_true-y_pred)/y_true))*100"
   ]
  },
  {
   "cell_type": "code",
   "execution_count": 38,
   "id": "congressional-adobe",
   "metadata": {},
   "outputs": [],
   "source": [
    "# 데이터 불러오기\n",
    "data = pd.read_csv(\"C:/py_workspace/korea_py/prj_st/pt_train_dt.csv\")"
   ]
  },
  {
   "cell_type": "markdown",
   "id": "comic-aside",
   "metadata": {},
   "source": [
    "## Data 탐색 및 전처리"
   ]
  },
  {
   "cell_type": "code",
   "execution_count": 39,
   "id": "b0e691d5-230f-4528-94d6-9188d312abb7",
   "metadata": {},
   "outputs": [
    {
     "data": {
      "text/html": [
       "<div>\n",
       "<style scoped>\n",
       "    .dataframe tbody tr th:only-of-type {\n",
       "        vertical-align: middle;\n",
       "    }\n",
       "\n",
       "    .dataframe tbody tr th {\n",
       "        vertical-align: top;\n",
       "    }\n",
       "\n",
       "    .dataframe thead th {\n",
       "        text-align: right;\n",
       "    }\n",
       "</style>\n",
       "<table border=\"1\" class=\"dataframe\">\n",
       "  <thead>\n",
       "    <tr style=\"text-align: right;\">\n",
       "      <th></th>\n",
       "      <th>lot_id</th>\n",
       "      <th>wf</th>\n",
       "      <th>x_1</th>\n",
       "      <th>x_2</th>\n",
       "      <th>x_3</th>\n",
       "      <th>x_4</th>\n",
       "      <th>x_5</th>\n",
       "      <th>x_6</th>\n",
       "      <th>x_7</th>\n",
       "      <th>x_8</th>\n",
       "      <th>...</th>\n",
       "      <th>x_395</th>\n",
       "      <th>x_396</th>\n",
       "      <th>x_397</th>\n",
       "      <th>x_398</th>\n",
       "      <th>x_399</th>\n",
       "      <th>x_400</th>\n",
       "      <th>y_1</th>\n",
       "      <th>y_2</th>\n",
       "      <th>y_3</th>\n",
       "      <th>split</th>\n",
       "    </tr>\n",
       "  </thead>\n",
       "  <tbody>\n",
       "    <tr>\n",
       "      <th>0</th>\n",
       "      <td>TDRM795W</td>\n",
       "      <td>9</td>\n",
       "      <td>1.473766</td>\n",
       "      <td>85.908215</td>\n",
       "      <td>249.959409</td>\n",
       "      <td>47.834938</td>\n",
       "      <td>856.046648</td>\n",
       "      <td>2500.0</td>\n",
       "      <td>0.495354</td>\n",
       "      <td>0.565273</td>\n",
       "      <td>...</td>\n",
       "      <td>64.0</td>\n",
       "      <td>64.0</td>\n",
       "      <td>64.0</td>\n",
       "      <td>64.0</td>\n",
       "      <td>64.0</td>\n",
       "      <td>64.0</td>\n",
       "      <td>56.55</td>\n",
       "      <td>58.9400</td>\n",
       "      <td>57.5425</td>\n",
       "      <td>train</td>\n",
       "    </tr>\n",
       "    <tr>\n",
       "      <th>1</th>\n",
       "      <td>TDRM129W</td>\n",
       "      <td>3</td>\n",
       "      <td>0.023678</td>\n",
       "      <td>99.979704</td>\n",
       "      <td>249.959409</td>\n",
       "      <td>0.270607</td>\n",
       "      <td>1001.481572</td>\n",
       "      <td>2500.0</td>\n",
       "      <td>0.000000</td>\n",
       "      <td>0.000000</td>\n",
       "      <td>...</td>\n",
       "      <td>55.0</td>\n",
       "      <td>55.0</td>\n",
       "      <td>55.0</td>\n",
       "      <td>55.0</td>\n",
       "      <td>55.0</td>\n",
       "      <td>55.0</td>\n",
       "      <td>57.68</td>\n",
       "      <td>59.7750</td>\n",
       "      <td>58.2325</td>\n",
       "      <td>train</td>\n",
       "    </tr>\n",
       "    <tr>\n",
       "      <th>2</th>\n",
       "      <td>TDRLY92W</td>\n",
       "      <td>11</td>\n",
       "      <td>0.007380</td>\n",
       "      <td>88.220968</td>\n",
       "      <td>249.959409</td>\n",
       "      <td>0.000000</td>\n",
       "      <td>882.352941</td>\n",
       "      <td>2500.0</td>\n",
       "      <td>0.366233</td>\n",
       "      <td>0.470358</td>\n",
       "      <td>...</td>\n",
       "      <td>75.0</td>\n",
       "      <td>75.0</td>\n",
       "      <td>75.0</td>\n",
       "      <td>75.0</td>\n",
       "      <td>75.0</td>\n",
       "      <td>75.0</td>\n",
       "      <td>54.67</td>\n",
       "      <td>58.4675</td>\n",
       "      <td>56.1875</td>\n",
       "      <td>train</td>\n",
       "    </tr>\n",
       "  </tbody>\n",
       "</table>\n",
       "<p>3 rows × 406 columns</p>\n",
       "</div>"
      ],
      "text/plain": [
       "     lot_id  wf       x_1        x_2         x_3        x_4          x_5  \\\n",
       "0  TDRM795W   9  1.473766  85.908215  249.959409  47.834938   856.046648   \n",
       "1  TDRM129W   3  0.023678  99.979704  249.959409   0.270607  1001.481572   \n",
       "2  TDRLY92W  11  0.007380  88.220968  249.959409   0.000000   882.352941   \n",
       "\n",
       "      x_6       x_7       x_8  ...    x_395  x_396  x_397  x_398  x_399  \\\n",
       "0  2500.0  0.495354  0.565273  ...     64.0   64.0   64.0   64.0   64.0   \n",
       "1  2500.0  0.000000  0.000000  ...     55.0   55.0   55.0   55.0   55.0   \n",
       "2  2500.0  0.366233  0.470358  ...     75.0   75.0   75.0   75.0   75.0   \n",
       "\n",
       "   x_400    y_1      y_2      y_3  split  \n",
       "0   64.0  56.55  58.9400  57.5425  train  \n",
       "1   55.0  57.68  59.7750  58.2325  train  \n",
       "2   75.0  54.67  58.4675  56.1875  train  \n",
       "\n",
       "[3 rows x 406 columns]"
      ]
     },
     "execution_count": 39,
     "metadata": {},
     "output_type": "execute_result"
    }
   ],
   "source": [
    "data.head(3)"
   ]
  },
  {
   "cell_type": "code",
   "execution_count": 40,
   "id": "4e8aa9d8-635b-49a7-8d59-0fd33b7fb9ca",
   "metadata": {},
   "outputs": [],
   "source": [
    "d_columns = data.columns[1:402]"
   ]
  },
  {
   "cell_type": "code",
   "execution_count": 41,
   "id": "260cccf8-7730-4519-8527-6418026cd51c",
   "metadata": {},
   "outputs": [],
   "source": [
    "for col in d_columns:\n",
    "    data[col] = data[col].fillna(data[col].median())"
   ]
  },
  {
   "cell_type": "code",
   "execution_count": 42,
   "id": "c4dd00bb-fcc7-4833-99f6-f1011df168a7",
   "metadata": {},
   "outputs": [],
   "source": [
    "X = data.drop(['lot_id','split','y_1','y_2','y_3'], axis=1)\n",
    "Y = data[['y_1','y_2','y_3']]"
   ]
  },
  {
   "cell_type": "code",
   "execution_count": 43,
   "id": "forbidden-bracket",
   "metadata": {},
   "outputs": [],
   "source": [
    "# 학습 : 검증 : 테스트 = 6 : 3 : 1 데이터 분리\n",
    "X_train, X_valid, Y_train, Y_valid = train_test_split(X, Y, test_size=0.4, random_state=2021)\n",
    "X_vaild, X_test, Y_valid, Y_test = train_test_split(X_valid, Y_valid, test_size=0.25, random_state=2021)"
   ]
  },
  {
   "cell_type": "code",
   "execution_count": 35,
   "id": "c8b679ba-a939-4326-b6cd-b4ec264ee1a4",
   "metadata": {},
   "outputs": [],
   "source": [
    "# Outlier 처리 예정\n",
    "\n",
    "\n"
   ]
  },
  {
   "cell_type": "code",
   "execution_count": null,
   "id": "104551a6-d1e3-41f7-8439-327b1030e142",
   "metadata": {},
   "outputs": [],
   "source": []
  },
  {
   "cell_type": "code",
   "execution_count": null,
   "id": "01fd58a4-45bb-4aa2-9692-cab8fffa9fbe",
   "metadata": {},
   "outputs": [],
   "source": []
  },
  {
   "cell_type": "code",
   "execution_count": null,
   "id": "fb7b80f9-8b58-4eef-94d9-ca7148b66031",
   "metadata": {},
   "outputs": [],
   "source": []
  },
  {
   "cell_type": "markdown",
   "id": "ac47f113-5d2e-4d03-b73b-b90b333c7820",
   "metadata": {},
   "source": [
    "# Scaling"
   ]
  },
  {
   "cell_type": "markdown",
   "id": "b5fef506-1b35-44df-943e-b755b0122a6a",
   "metadata": {},
   "source": [
    "### Robust Scaler"
   ]
  },
  {
   "cell_type": "code",
   "execution_count": 9,
   "id": "5d9d4001-f352-4594-a2b9-cb04897d9049",
   "metadata": {},
   "outputs": [],
   "source": [
    "Robust_scaler = RobustScaler()\n",
    "Robust_scaler.fit(X_train)\n",
    "X_train_RB = Robust_scaler.transform(X_train)\n",
    "X_test_RB = Robust_scaler.transform(X_test)"
   ]
  },
  {
   "cell_type": "code",
   "execution_count": 33,
   "id": "f7704b7e-0069-4ac2-86f3-374bb05808ce",
   "metadata": {},
   "outputs": [
    {
     "data": {
      "text/html": [
       "<div>\n",
       "<style scoped>\n",
       "    .dataframe tbody tr th:only-of-type {\n",
       "        vertical-align: middle;\n",
       "    }\n",
       "\n",
       "    .dataframe tbody tr th {\n",
       "        vertical-align: top;\n",
       "    }\n",
       "\n",
       "    .dataframe thead th {\n",
       "        text-align: right;\n",
       "    }\n",
       "</style>\n",
       "<table border=\"1\" class=\"dataframe\">\n",
       "  <thead>\n",
       "    <tr style=\"text-align: right;\">\n",
       "      <th></th>\n",
       "      <th>0</th>\n",
       "      <th>1</th>\n",
       "      <th>2</th>\n",
       "      <th>3</th>\n",
       "      <th>4</th>\n",
       "      <th>5</th>\n",
       "      <th>6</th>\n",
       "      <th>7</th>\n",
       "      <th>8</th>\n",
       "      <th>9</th>\n",
       "      <th>...</th>\n",
       "      <th>391</th>\n",
       "      <th>392</th>\n",
       "      <th>393</th>\n",
       "      <th>394</th>\n",
       "      <th>395</th>\n",
       "      <th>396</th>\n",
       "      <th>397</th>\n",
       "      <th>398</th>\n",
       "      <th>399</th>\n",
       "      <th>400</th>\n",
       "    </tr>\n",
       "  </thead>\n",
       "  <tbody>\n",
       "    <tr>\n",
       "      <th>count</th>\n",
       "      <td>88100.000000</td>\n",
       "      <td>88100.000000</td>\n",
       "      <td>88100.000000</td>\n",
       "      <td>88100.000000</td>\n",
       "      <td>88100.000000</td>\n",
       "      <td>88100.000000</td>\n",
       "      <td>88100.000000</td>\n",
       "      <td>88100.000000</td>\n",
       "      <td>88100.000000</td>\n",
       "      <td>88100.000000</td>\n",
       "      <td>...</td>\n",
       "      <td>88100.000000</td>\n",
       "      <td>88100.000000</td>\n",
       "      <td>88100.000000</td>\n",
       "      <td>88100.000000</td>\n",
       "      <td>88100.000000</td>\n",
       "      <td>88100.000000</td>\n",
       "      <td>88100.000000</td>\n",
       "      <td>88100.000000</td>\n",
       "      <td>88100.000000</td>\n",
       "      <td>88100.000000</td>\n",
       "    </tr>\n",
       "    <tr>\n",
       "      <th>mean</th>\n",
       "      <td>0.001492</td>\n",
       "      <td>2.625928</td>\n",
       "      <td>0.031698</td>\n",
       "      <td>2.845909</td>\n",
       "      <td>12.688144</td>\n",
       "      <td>0.102261</td>\n",
       "      <td>23.116288</td>\n",
       "      <td>0.553783</td>\n",
       "      <td>0.609122</td>\n",
       "      <td>0.629804</td>\n",
       "      <td>...</td>\n",
       "      <td>0.008503</td>\n",
       "      <td>0.001911</td>\n",
       "      <td>-0.005953</td>\n",
       "      <td>-0.017824</td>\n",
       "      <td>-0.015377</td>\n",
       "      <td>-0.012907</td>\n",
       "      <td>-0.011721</td>\n",
       "      <td>-0.008181</td>\n",
       "      <td>0.003867</td>\n",
       "      <td>-0.003472</td>\n",
       "    </tr>\n",
       "    <tr>\n",
       "      <th>std</th>\n",
       "      <td>0.599701</td>\n",
       "      <td>5.248584</td>\n",
       "      <td>0.923744</td>\n",
       "      <td>39.745560</td>\n",
       "      <td>26.918238</td>\n",
       "      <td>0.872809</td>\n",
       "      <td>326.051783</td>\n",
       "      <td>1.752147</td>\n",
       "      <td>1.944915</td>\n",
       "      <td>7.383165</td>\n",
       "      <td>...</td>\n",
       "      <td>0.580341</td>\n",
       "      <td>0.591548</td>\n",
       "      <td>0.589737</td>\n",
       "      <td>0.607561</td>\n",
       "      <td>0.608419</td>\n",
       "      <td>0.609235</td>\n",
       "      <td>0.618814</td>\n",
       "      <td>0.610115</td>\n",
       "      <td>0.597602</td>\n",
       "      <td>0.607461</td>\n",
       "    </tr>\n",
       "    <tr>\n",
       "      <th>min</th>\n",
       "      <td>-1.000000</td>\n",
       "      <td>-0.529577</td>\n",
       "      <td>-7.339413</td>\n",
       "      <td>-8.927122</td>\n",
       "      <td>-3.081212</td>\n",
       "      <td>-7.371038</td>\n",
       "      <td>-89.314708</td>\n",
       "      <td>0.000000</td>\n",
       "      <td>0.000000</td>\n",
       "      <td>-2.644425</td>\n",
       "      <td>...</td>\n",
       "      <td>-0.972222</td>\n",
       "      <td>-1.142857</td>\n",
       "      <td>-1.078114</td>\n",
       "      <td>-1.147059</td>\n",
       "      <td>-1.147059</td>\n",
       "      <td>-1.147059</td>\n",
       "      <td>-1.164179</td>\n",
       "      <td>-1.147059</td>\n",
       "      <td>-1.122302</td>\n",
       "      <td>-1.157895</td>\n",
       "    </tr>\n",
       "    <tr>\n",
       "      <th>25%</th>\n",
       "      <td>-0.500000</td>\n",
       "      <td>-0.038476</td>\n",
       "      <td>-0.469052</td>\n",
       "      <td>0.000000</td>\n",
       "      <td>-0.060621</td>\n",
       "      <td>-0.465606</td>\n",
       "      <td>0.000000</td>\n",
       "      <td>0.000000</td>\n",
       "      <td>0.000000</td>\n",
       "      <td>-0.404459</td>\n",
       "      <td>...</td>\n",
       "      <td>-0.500000</td>\n",
       "      <td>-0.485714</td>\n",
       "      <td>-0.508931</td>\n",
       "      <td>-0.529412</td>\n",
       "      <td>-0.529412</td>\n",
       "      <td>-0.529412</td>\n",
       "      <td>-0.507463</td>\n",
       "      <td>-0.500000</td>\n",
       "      <td>-0.489209</td>\n",
       "      <td>-0.491228</td>\n",
       "    </tr>\n",
       "    <tr>\n",
       "      <th>50%</th>\n",
       "      <td>0.000000</td>\n",
       "      <td>0.000000</td>\n",
       "      <td>0.000000</td>\n",
       "      <td>0.000000</td>\n",
       "      <td>0.000000</td>\n",
       "      <td>0.000000</td>\n",
       "      <td>0.000000</td>\n",
       "      <td>0.000000</td>\n",
       "      <td>0.000000</td>\n",
       "      <td>0.000000</td>\n",
       "      <td>...</td>\n",
       "      <td>0.000000</td>\n",
       "      <td>0.000000</td>\n",
       "      <td>0.000000</td>\n",
       "      <td>0.000000</td>\n",
       "      <td>0.000000</td>\n",
       "      <td>0.000000</td>\n",
       "      <td>0.000000</td>\n",
       "      <td>0.000000</td>\n",
       "      <td>0.000000</td>\n",
       "      <td>0.000000</td>\n",
       "    </tr>\n",
       "    <tr>\n",
       "      <th>75%</th>\n",
       "      <td>0.500000</td>\n",
       "      <td>0.961524</td>\n",
       "      <td>0.530948</td>\n",
       "      <td>0.000000</td>\n",
       "      <td>0.939379</td>\n",
       "      <td>0.534394</td>\n",
       "      <td>0.000000</td>\n",
       "      <td>1.000000</td>\n",
       "      <td>1.000000</td>\n",
       "      <td>0.595541</td>\n",
       "      <td>...</td>\n",
       "      <td>0.500000</td>\n",
       "      <td>0.514286</td>\n",
       "      <td>0.491069</td>\n",
       "      <td>0.470588</td>\n",
       "      <td>0.470588</td>\n",
       "      <td>0.470588</td>\n",
       "      <td>0.492537</td>\n",
       "      <td>0.500000</td>\n",
       "      <td>0.510791</td>\n",
       "      <td>0.508772</td>\n",
       "    </tr>\n",
       "    <tr>\n",
       "      <th>max</th>\n",
       "      <td>1.000000</td>\n",
       "      <td>74.392623</td>\n",
       "      <td>37.850770</td>\n",
       "      <td>549.040591</td>\n",
       "      <td>172.165012</td>\n",
       "      <td>32.324194</td>\n",
       "      <td>4502.185185</td>\n",
       "      <td>34.896680</td>\n",
       "      <td>22.015448</td>\n",
       "      <td>102.315020</td>\n",
       "      <td>...</td>\n",
       "      <td>1.777778</td>\n",
       "      <td>1.685714</td>\n",
       "      <td>1.751131</td>\n",
       "      <td>1.764706</td>\n",
       "      <td>1.764706</td>\n",
       "      <td>1.764706</td>\n",
       "      <td>1.791045</td>\n",
       "      <td>1.764706</td>\n",
       "      <td>1.726619</td>\n",
       "      <td>1.736842</td>\n",
       "    </tr>\n",
       "  </tbody>\n",
       "</table>\n",
       "<p>8 rows × 401 columns</p>\n",
       "</div>"
      ],
      "text/plain": [
       "                0             1             2             3             4    \\\n",
       "count  88100.000000  88100.000000  88100.000000  88100.000000  88100.000000   \n",
       "mean       0.001492      2.625928      0.031698      2.845909     12.688144   \n",
       "std        0.599701      5.248584      0.923744     39.745560     26.918238   \n",
       "min       -1.000000     -0.529577     -7.339413     -8.927122     -3.081212   \n",
       "25%       -0.500000     -0.038476     -0.469052      0.000000     -0.060621   \n",
       "50%        0.000000      0.000000      0.000000      0.000000      0.000000   \n",
       "75%        0.500000      0.961524      0.530948      0.000000      0.939379   \n",
       "max        1.000000     74.392623     37.850770    549.040591    172.165012   \n",
       "\n",
       "                5             6             7             8             9    \\\n",
       "count  88100.000000  88100.000000  88100.000000  88100.000000  88100.000000   \n",
       "mean       0.102261     23.116288      0.553783      0.609122      0.629804   \n",
       "std        0.872809    326.051783      1.752147      1.944915      7.383165   \n",
       "min       -7.371038    -89.314708      0.000000      0.000000     -2.644425   \n",
       "25%       -0.465606      0.000000      0.000000      0.000000     -0.404459   \n",
       "50%        0.000000      0.000000      0.000000      0.000000      0.000000   \n",
       "75%        0.534394      0.000000      1.000000      1.000000      0.595541   \n",
       "max       32.324194   4502.185185     34.896680     22.015448    102.315020   \n",
       "\n",
       "           ...                391           392           393           394  \\\n",
       "count      ...       88100.000000  88100.000000  88100.000000  88100.000000   \n",
       "mean       ...           0.008503      0.001911     -0.005953     -0.017824   \n",
       "std        ...           0.580341      0.591548      0.589737      0.607561   \n",
       "min        ...          -0.972222     -1.142857     -1.078114     -1.147059   \n",
       "25%        ...          -0.500000     -0.485714     -0.508931     -0.529412   \n",
       "50%        ...           0.000000      0.000000      0.000000      0.000000   \n",
       "75%        ...           0.500000      0.514286      0.491069      0.470588   \n",
       "max        ...           1.777778      1.685714      1.751131      1.764706   \n",
       "\n",
       "                395           396           397           398           399  \\\n",
       "count  88100.000000  88100.000000  88100.000000  88100.000000  88100.000000   \n",
       "mean      -0.015377     -0.012907     -0.011721     -0.008181      0.003867   \n",
       "std        0.608419      0.609235      0.618814      0.610115      0.597602   \n",
       "min       -1.147059     -1.147059     -1.164179     -1.147059     -1.122302   \n",
       "25%       -0.529412     -0.529412     -0.507463     -0.500000     -0.489209   \n",
       "50%        0.000000      0.000000      0.000000      0.000000      0.000000   \n",
       "75%        0.470588      0.470588      0.492537      0.500000      0.510791   \n",
       "max        1.764706      1.764706      1.791045      1.764706      1.726619   \n",
       "\n",
       "                400  \n",
       "count  88100.000000  \n",
       "mean      -0.003472  \n",
       "std        0.607461  \n",
       "min       -1.157895  \n",
       "25%       -0.491228  \n",
       "50%        0.000000  \n",
       "75%        0.508772  \n",
       "max        1.736842  \n",
       "\n",
       "[8 rows x 401 columns]"
      ]
     },
     "execution_count": 33,
     "metadata": {},
     "output_type": "execute_result"
    }
   ],
   "source": [
    "pd.DataFrame(X_train_RB).describe()"
   ]
  },
  {
   "cell_type": "markdown",
   "id": "5d814f3e-12c5-4e25-88a6-96e488b4dcae",
   "metadata": {},
   "source": [
    "### MaxAbs Scaler"
   ]
  },
  {
   "cell_type": "code",
   "execution_count": 10,
   "id": "843ddcac-09c7-4e0d-b9ce-7a3606b952cf",
   "metadata": {},
   "outputs": [],
   "source": [
    "MA_scaler = MaxAbsScaler()\n",
    "MA_scaler.fit(X_train)\n",
    "X_train_MA = MA_scaler.transform(X_train)\n",
    "X_test_MA = MA_scaler.transform(X_test)"
   ]
  },
  {
   "cell_type": "code",
   "execution_count": 34,
   "id": "9f9895d2-ecee-4d08-aab9-7163bc1411b8",
   "metadata": {},
   "outputs": [
    {
     "data": {
      "text/html": [
       "<div>\n",
       "<style scoped>\n",
       "    .dataframe tbody tr th:only-of-type {\n",
       "        vertical-align: middle;\n",
       "    }\n",
       "\n",
       "    .dataframe tbody tr th {\n",
       "        vertical-align: top;\n",
       "    }\n",
       "\n",
       "    .dataframe thead th {\n",
       "        text-align: right;\n",
       "    }\n",
       "</style>\n",
       "<table border=\"1\" class=\"dataframe\">\n",
       "  <thead>\n",
       "    <tr style=\"text-align: right;\">\n",
       "      <th></th>\n",
       "      <th>0</th>\n",
       "      <th>1</th>\n",
       "      <th>2</th>\n",
       "      <th>3</th>\n",
       "      <th>4</th>\n",
       "      <th>5</th>\n",
       "      <th>6</th>\n",
       "      <th>7</th>\n",
       "      <th>8</th>\n",
       "      <th>9</th>\n",
       "      <th>...</th>\n",
       "      <th>391</th>\n",
       "      <th>392</th>\n",
       "      <th>393</th>\n",
       "      <th>394</th>\n",
       "      <th>395</th>\n",
       "      <th>396</th>\n",
       "      <th>397</th>\n",
       "      <th>398</th>\n",
       "      <th>399</th>\n",
       "      <th>400</th>\n",
       "    </tr>\n",
       "  </thead>\n",
       "  <tbody>\n",
       "    <tr>\n",
       "      <th>count</th>\n",
       "      <td>88100.000000</td>\n",
       "      <td>88100.000000</td>\n",
       "      <td>88100.000000</td>\n",
       "      <td>88100.000000</td>\n",
       "      <td>88100.000000</td>\n",
       "      <td>88100.000000</td>\n",
       "      <td>88100.000000</td>\n",
       "      <td>88100.000000</td>\n",
       "      <td>88100.000000</td>\n",
       "      <td>88100.000000</td>\n",
       "      <td>...</td>\n",
       "      <td>88100.000000</td>\n",
       "      <td>88100.000000</td>\n",
       "      <td>88100.000000</td>\n",
       "      <td>88100.000000</td>\n",
       "      <td>88100.000000</td>\n",
       "      <td>88100.000000</td>\n",
       "      <td>88100.000000</td>\n",
       "      <td>88100.000000</td>\n",
       "      <td>88100.000000</td>\n",
       "      <td>88100.000000</td>\n",
       "    </tr>\n",
       "    <tr>\n",
       "      <th>mean</th>\n",
       "      <td>0.520716</td>\n",
       "      <td>0.035907</td>\n",
       "      <td>0.174700</td>\n",
       "      <td>0.316402</td>\n",
       "      <td>0.074195</td>\n",
       "      <td>0.201174</td>\n",
       "      <td>0.360333</td>\n",
       "      <td>0.015869</td>\n",
       "      <td>0.027668</td>\n",
       "      <td>0.503227</td>\n",
       "      <td>...</td>\n",
       "      <td>0.363061</td>\n",
       "      <td>0.410669</td>\n",
       "      <td>0.385167</td>\n",
       "      <td>0.393940</td>\n",
       "      <td>0.394772</td>\n",
       "      <td>0.395612</td>\n",
       "      <td>0.396074</td>\n",
       "      <td>0.397218</td>\n",
       "      <td>0.401344</td>\n",
       "      <td>0.404813</td>\n",
       "    </tr>\n",
       "    <tr>\n",
       "      <th>std</th>\n",
       "      <td>0.287856</td>\n",
       "      <td>0.070508</td>\n",
       "      <td>0.020158</td>\n",
       "      <td>0.049744</td>\n",
       "      <td>0.156267</td>\n",
       "      <td>0.021638</td>\n",
       "      <td>0.046564</td>\n",
       "      <td>0.050210</td>\n",
       "      <td>0.088343</td>\n",
       "      <td>0.036070</td>\n",
       "      <td>...</td>\n",
       "      <td>0.208923</td>\n",
       "      <td>0.207042</td>\n",
       "      <td>0.206359</td>\n",
       "      <td>0.206571</td>\n",
       "      <td>0.206862</td>\n",
       "      <td>0.207140</td>\n",
       "      <td>0.207303</td>\n",
       "      <td>0.207439</td>\n",
       "      <td>0.207667</td>\n",
       "      <td>0.207752</td>\n",
       "    </tr>\n",
       "    <tr>\n",
       "      <th>min</th>\n",
       "      <td>0.040000</td>\n",
       "      <td>-0.006483</td>\n",
       "      <td>0.013846</td>\n",
       "      <td>0.301667</td>\n",
       "      <td>-0.017350</td>\n",
       "      <td>0.015901</td>\n",
       "      <td>0.344276</td>\n",
       "      <td>0.000000</td>\n",
       "      <td>0.000000</td>\n",
       "      <td>0.487231</td>\n",
       "      <td>...</td>\n",
       "      <td>0.010000</td>\n",
       "      <td>0.010000</td>\n",
       "      <td>0.010000</td>\n",
       "      <td>0.010000</td>\n",
       "      <td>0.010000</td>\n",
       "      <td>0.010000</td>\n",
       "      <td>0.010000</td>\n",
       "      <td>0.010000</td>\n",
       "      <td>0.010000</td>\n",
       "      <td>0.010000</td>\n",
       "    </tr>\n",
       "    <tr>\n",
       "      <th>25%</th>\n",
       "      <td>0.280000</td>\n",
       "      <td>0.000114</td>\n",
       "      <td>0.163773</td>\n",
       "      <td>0.312840</td>\n",
       "      <td>0.000186</td>\n",
       "      <td>0.187096</td>\n",
       "      <td>0.357031</td>\n",
       "      <td>0.000000</td>\n",
       "      <td>0.000000</td>\n",
       "      <td>0.498174</td>\n",
       "      <td>...</td>\n",
       "      <td>0.180000</td>\n",
       "      <td>0.240000</td>\n",
       "      <td>0.209167</td>\n",
       "      <td>0.220000</td>\n",
       "      <td>0.220000</td>\n",
       "      <td>0.220000</td>\n",
       "      <td>0.230000</td>\n",
       "      <td>0.230000</td>\n",
       "      <td>0.230000</td>\n",
       "      <td>0.238000</td>\n",
       "    </tr>\n",
       "    <tr>\n",
       "      <th>50%</th>\n",
       "      <td>0.520000</td>\n",
       "      <td>0.000631</td>\n",
       "      <td>0.174009</td>\n",
       "      <td>0.312840</td>\n",
       "      <td>0.000537</td>\n",
       "      <td>0.198639</td>\n",
       "      <td>0.357031</td>\n",
       "      <td>0.000000</td>\n",
       "      <td>0.000000</td>\n",
       "      <td>0.500150</td>\n",
       "      <td>...</td>\n",
       "      <td>0.360000</td>\n",
       "      <td>0.410000</td>\n",
       "      <td>0.387250</td>\n",
       "      <td>0.400000</td>\n",
       "      <td>0.400000</td>\n",
       "      <td>0.400000</td>\n",
       "      <td>0.400000</td>\n",
       "      <td>0.400000</td>\n",
       "      <td>0.400000</td>\n",
       "      <td>0.406000</td>\n",
       "    </tr>\n",
       "    <tr>\n",
       "      <th>75%</th>\n",
       "      <td>0.760000</td>\n",
       "      <td>0.013548</td>\n",
       "      <td>0.185595</td>\n",
       "      <td>0.312840</td>\n",
       "      <td>0.005991</td>\n",
       "      <td>0.211888</td>\n",
       "      <td>0.357031</td>\n",
       "      <td>0.028656</td>\n",
       "      <td>0.045423</td>\n",
       "      <td>0.503059</td>\n",
       "      <td>...</td>\n",
       "      <td>0.540000</td>\n",
       "      <td>0.590000</td>\n",
       "      <td>0.559083</td>\n",
       "      <td>0.560000</td>\n",
       "      <td>0.560000</td>\n",
       "      <td>0.560000</td>\n",
       "      <td>0.565000</td>\n",
       "      <td>0.570000</td>\n",
       "      <td>0.577500</td>\n",
       "      <td>0.580000</td>\n",
       "    </tr>\n",
       "    <tr>\n",
       "      <th>max</th>\n",
       "      <td>1.000000</td>\n",
       "      <td>1.000000</td>\n",
       "      <td>1.000000</td>\n",
       "      <td>1.000000</td>\n",
       "      <td>1.000000</td>\n",
       "      <td>1.000000</td>\n",
       "      <td>1.000000</td>\n",
       "      <td>1.000000</td>\n",
       "      <td>1.000000</td>\n",
       "      <td>1.000000</td>\n",
       "      <td>...</td>\n",
       "      <td>1.000000</td>\n",
       "      <td>1.000000</td>\n",
       "      <td>1.000000</td>\n",
       "      <td>1.000000</td>\n",
       "      <td>1.000000</td>\n",
       "      <td>1.000000</td>\n",
       "      <td>1.000000</td>\n",
       "      <td>1.000000</td>\n",
       "      <td>1.000000</td>\n",
       "      <td>1.000000</td>\n",
       "    </tr>\n",
       "  </tbody>\n",
       "</table>\n",
       "<p>8 rows × 401 columns</p>\n",
       "</div>"
      ],
      "text/plain": [
       "                0             1             2             3             4    \\\n",
       "count  88100.000000  88100.000000  88100.000000  88100.000000  88100.000000   \n",
       "mean       0.520716      0.035907      0.174700      0.316402      0.074195   \n",
       "std        0.287856      0.070508      0.020158      0.049744      0.156267   \n",
       "min        0.040000     -0.006483      0.013846      0.301667     -0.017350   \n",
       "25%        0.280000      0.000114      0.163773      0.312840      0.000186   \n",
       "50%        0.520000      0.000631      0.174009      0.312840      0.000537   \n",
       "75%        0.760000      0.013548      0.185595      0.312840      0.005991   \n",
       "max        1.000000      1.000000      1.000000      1.000000      1.000000   \n",
       "\n",
       "                5             6             7             8             9    \\\n",
       "count  88100.000000  88100.000000  88100.000000  88100.000000  88100.000000   \n",
       "mean       0.201174      0.360333      0.015869      0.027668      0.503227   \n",
       "std        0.021638      0.046564      0.050210      0.088343      0.036070   \n",
       "min        0.015901      0.344276      0.000000      0.000000      0.487231   \n",
       "25%        0.187096      0.357031      0.000000      0.000000      0.498174   \n",
       "50%        0.198639      0.357031      0.000000      0.000000      0.500150   \n",
       "75%        0.211888      0.357031      0.028656      0.045423      0.503059   \n",
       "max        1.000000      1.000000      1.000000      1.000000      1.000000   \n",
       "\n",
       "           ...                391           392           393           394  \\\n",
       "count      ...       88100.000000  88100.000000  88100.000000  88100.000000   \n",
       "mean       ...           0.363061      0.410669      0.385167      0.393940   \n",
       "std        ...           0.208923      0.207042      0.206359      0.206571   \n",
       "min        ...           0.010000      0.010000      0.010000      0.010000   \n",
       "25%        ...           0.180000      0.240000      0.209167      0.220000   \n",
       "50%        ...           0.360000      0.410000      0.387250      0.400000   \n",
       "75%        ...           0.540000      0.590000      0.559083      0.560000   \n",
       "max        ...           1.000000      1.000000      1.000000      1.000000   \n",
       "\n",
       "                395           396           397           398           399  \\\n",
       "count  88100.000000  88100.000000  88100.000000  88100.000000  88100.000000   \n",
       "mean       0.394772      0.395612      0.396074      0.397218      0.401344   \n",
       "std        0.206862      0.207140      0.207303      0.207439      0.207667   \n",
       "min        0.010000      0.010000      0.010000      0.010000      0.010000   \n",
       "25%        0.220000      0.220000      0.230000      0.230000      0.230000   \n",
       "50%        0.400000      0.400000      0.400000      0.400000      0.400000   \n",
       "75%        0.560000      0.560000      0.565000      0.570000      0.577500   \n",
       "max        1.000000      1.000000      1.000000      1.000000      1.000000   \n",
       "\n",
       "                400  \n",
       "count  88100.000000  \n",
       "mean       0.404813  \n",
       "std        0.207752  \n",
       "min        0.010000  \n",
       "25%        0.238000  \n",
       "50%        0.406000  \n",
       "75%        0.580000  \n",
       "max        1.000000  \n",
       "\n",
       "[8 rows x 401 columns]"
      ]
     },
     "execution_count": 34,
     "metadata": {},
     "output_type": "execute_result"
    }
   ],
   "source": [
    "pd.DataFrame(X_train_MA).describe()"
   ]
  },
  {
   "cell_type": "markdown",
   "id": "after-costs",
   "metadata": {},
   "source": [
    "# Modeling"
   ]
  },
  {
   "cell_type": "markdown",
   "id": "ca99093a-9465-4ab8-8daa-a0614d1a085a",
   "metadata": {},
   "source": [
    "* Linear Regression"
   ]
  },
  {
   "cell_type": "code",
   "execution_count": 20,
   "id": "integral-pennsylvania",
   "metadata": {
    "collapsed": true,
    "jupyter": {
     "outputs_hidden": true
    },
    "tags": []
   },
   "outputs": [
    {
     "data": {
      "text/plain": [
       "array([[58.00023015, 59.06442536, 58.31067202],\n",
       "       [56.4680694 , 58.66165   , 57.37446258],\n",
       "       [56.87575979, 59.61103799, 57.93275757],\n",
       "       ...,\n",
       "       [56.27004451, 58.59186511, 57.32079814],\n",
       "       [57.24473954, 59.30570322, 58.00161303],\n",
       "       [57.50780427, 59.46605722, 58.28044528]])"
      ]
     },
     "execution_count": 20,
     "metadata": {},
     "output_type": "execute_result"
    }
   ],
   "source": [
    "# 선형 회귀 모델 학습 - Standard Scaler\n",
    "reg_st = LinearRegression().fit(X_train_RB, Y_train)\n",
    "reg_st.score(X_train_RB, Y_train)\n",
    "reg_st.coef_\n",
    "reg_st.intercept_\n",
    "reg_st.predict(X_test_RB)"
   ]
  },
  {
   "cell_type": "code",
   "execution_count": 21,
   "id": "7e6cf224-10ce-4b5f-ac24-e327d04aa7af",
   "metadata": {
    "collapsed": true,
    "jupyter": {
     "outputs_hidden": true
    },
    "tags": []
   },
   "outputs": [
    {
     "data": {
      "text/plain": [
       "array([[58.00023015, 59.06442536, 58.31067202],\n",
       "       [56.4680694 , 58.66165   , 57.37446258],\n",
       "       [56.87575979, 59.61103799, 57.93275757],\n",
       "       ...,\n",
       "       [56.27004451, 58.59186511, 57.32079814],\n",
       "       [57.24473954, 59.30570322, 58.00161303],\n",
       "       [57.50780427, 59.46605722, 58.28044528]])"
      ]
     },
     "execution_count": 21,
     "metadata": {},
     "output_type": "execute_result"
    }
   ],
   "source": [
    "reg_ma = LinearRegression().fit(X_train_MA, Y_train)\n",
    "reg_ma.score(X_train_MA, Y_train)\n",
    "reg_ma.coef_\n",
    "reg_ma.intercept_\n",
    "reg_ma.predict(X_test_MA)"
   ]
  },
  {
   "cell_type": "code",
   "execution_count": 22,
   "id": "3cfd85c0-8f07-4482-81c9-8bd59619eedc",
   "metadata": {},
   "outputs": [
    {
     "data": {
      "text/plain": [
       "0.17471356431303753"
      ]
     },
     "execution_count": 22,
     "metadata": {},
     "output_type": "execute_result"
    }
   ],
   "source": [
    "reg_st.score(X_train_RB, Y_train)"
   ]
  },
  {
   "cell_type": "code",
   "execution_count": 23,
   "id": "bb6eb083-715b-487c-969d-35ed586787b4",
   "metadata": {},
   "outputs": [
    {
     "data": {
      "text/plain": [
       "0.174713564313037"
      ]
     },
     "execution_count": 23,
     "metadata": {},
     "output_type": "execute_result"
    }
   ],
   "source": [
    "reg_ma.score(X_train_MA, Y_train)"
   ]
  },
  {
   "cell_type": "code",
   "execution_count": 24,
   "id": "9a76624e-7083-40a3-b083-714157599b14",
   "metadata": {},
   "outputs": [],
   "source": [
    "train_y_pred = reg_st.predict(X_train_RB)"
   ]
  },
  {
   "cell_type": "code",
   "execution_count": 25,
   "id": "6b826872-27bc-4112-b0db-6c7b5307e8cb",
   "metadata": {},
   "outputs": [],
   "source": [
    "train_y_pred_ma = reg_ma.predict(X_train_MA)"
   ]
  },
  {
   "cell_type": "code",
   "execution_count": 26,
   "id": "98d47c1e-5a73-4bed-9a43-bfddedbca35d",
   "metadata": {},
   "outputs": [],
   "source": [
    "def mean_absolute_percentage_error(y_true, y_pred):\n",
    "    y_true, y_pred = np.array(y_true), np.array(y_pred)\n",
    "    return np.mean(np.abs((y_true-y_pred)/y_true))*100"
   ]
  },
  {
   "cell_type": "code",
   "execution_count": 27,
   "id": "2b312daa-586d-4183-8266-0c67d695607b",
   "metadata": {},
   "outputs": [
    {
     "name": "stdout",
     "output_type": "stream",
     "text": [
      "Training MSE : 0.851\n",
      "Training RMSE : 0.923\n",
      "Training MAE : 0.685\n",
      "Training MAPE : 1.185\n",
      "Training R2 : 0.175\n"
     ]
    }
   ],
   "source": [
    "print(\"Training MSE : {:.3f}\".format(mean_squared_error(Y_train, train_y_pred)))\n",
    "print(\"Training RMSE : {:.3f}\".format(np.sqrt(mean_squared_error(Y_train, train_y_pred))))\n",
    "print(\"Training MAE : {:.3f}\".format(mean_absolute_error(Y_train, train_y_pred)))\n",
    "print(\"Training MAPE : {:.3f}\".format(mean_absolute_percentage_error(Y_train, train_y_pred)))\n",
    "print(\"Training R2 : {:.3f}\".format(r2_score(Y_train, train_y_pred)))"
   ]
  },
  {
   "cell_type": "code",
   "execution_count": 28,
   "id": "91ada089-e80a-4c98-bf55-287d31974523",
   "metadata": {},
   "outputs": [
    {
     "name": "stdout",
     "output_type": "stream",
     "text": [
      "Training MSE : 0.851\n",
      "Training RMSE : 0.923\n",
      "Training MAE : 0.685\n",
      "Training MAPE : 1.185\n",
      "Training R2 : 0.175\n"
     ]
    }
   ],
   "source": [
    "print(\"Training MSE : {:.3f}\".format(mean_squared_error(Y_train, train_y_pred_ma)))\n",
    "print(\"Training RMSE : {:.3f}\".format(np.sqrt(mean_squared_error(Y_train, train_y_pred_ma))))\n",
    "print(\"Training MAE : {:.3f}\".format(mean_absolute_error(Y_train, train_y_pred_ma)))\n",
    "print(\"Training MAPE : {:.3f}\".format(mean_absolute_percentage_error(Y_train, train_y_pred_ma)))\n",
    "print(\"Training R2 : {:.3f}\".format(r2_score(Y_train, train_y_pred_ma)))"
   ]
  },
  {
   "cell_type": "code",
   "execution_count": 29,
   "id": "faabc680-7f9a-4896-ba4d-f85d2bbba2d8",
   "metadata": {},
   "outputs": [
    {
     "data": {
      "image/png": "[encoded data removed]",
      "text/plain": [
       "<Figure size 576x576 with 1 Axes>"
      ]
     },
     "metadata": {
      "needs_background": "light"
     },
     "output_type": "display_data"
    }
   ],
   "source": [
    "fig_values = np.concatenate([Y_train.squeeze(), train_y_pred.squeeze()])\n",
    "vmin = np.min(fig_values) * 0.95\n",
    "vmax = np.max(fig_values) * 1.05\n",
    "\n",
    "plt.figure(figsize=(8, 8))\n",
    "plt.title('Actual values vs. Predicted values (Training Data)', size=18)\n",
    "plt.scatter(Y_train, train_y_pred)\n",
    "plt.plot([vmin, vmax], [vmin, vmax], color='grey', linestyle='dashed')\n",
    "plt.xlabel('Actual', size=16)\n",
    "plt.ylabel('Predicted', size=16)\n",
    "plt.show()"
   ]
  },
  {
   "cell_type": "code",
   "execution_count": 30,
   "id": "3ba5635d-4d90-41fd-9983-20f176ea9c0f",
   "metadata": {},
   "outputs": [
    {
     "data": {
      "image/png": "[encoded data removed]",
      "text/plain": [
       "<Figure size 576x576 with 1 Axes>"
      ]
     },
     "metadata": {
      "needs_background": "light"
     },
     "output_type": "display_data"
    }
   ],
   "source": [
    "fig_values = np.concatenate([Y_train.squeeze(), train_y_pred_ma.squeeze()])\n",
    "vmin = np.min(fig_values) * 0.95\n",
    "vmax = np.max(fig_values) * 1.05\n",
    "\n",
    "plt.figure(figsize=(8, 8))\n",
    "plt.title('Actual values vs. Predicted values (Training Data)', size=18)\n",
    "plt.scatter(Y_train, train_y_pred_ma)\n",
    "plt.plot([vmin, vmax], [vmin, vmax], color='grey', linestyle='dashed')\n",
    "plt.xlabel('Actual', size=16)\n",
    "plt.ylabel('Predicted', size=16)\n",
    "plt.show()"
   ]
  },
  {
   "cell_type": "markdown",
   "id": "ac11708d-af83-42f1-af32-b1423760d24e",
   "metadata": {},
   "source": [
    "* Multiple Regression"
   ]
  },
  {
   "cell_type": "code",
   "execution_count": null,
   "id": "fbb3619e-a11d-4418-961b-b04be36927f2",
   "metadata": {},
   "outputs": [],
   "source": []
  },
  {
   "cell_type": "markdown",
   "id": "6603859f-4377-4118-9926-f3386855cc7a",
   "metadata": {},
   "source": [
    "* Decision tree regression"
   ]
  },
  {
   "cell_type": "code",
   "execution_count": null,
   "id": "8977be04-bad8-4555-834c-c97a25689f0c",
   "metadata": {},
   "outputs": [],
   "source": []
  },
  {
   "cell_type": "markdown",
   "id": "005acba2-f090-4224-b255-80ba612bbc60",
   "metadata": {},
   "source": [
    "* Random forest trees"
   ]
  },
  {
   "cell_type": "code",
   "execution_count": null,
   "id": "60ef7a2b-59d6-4f78-ae0a-dc77c2d2ee54",
   "metadata": {},
   "outputs": [],
   "source": []
  },
  {
   "cell_type": "markdown",
   "id": "dd2fa355-e062-409f-a7cc-a319aff7129f",
   "metadata": {},
   "source": [
    "* Gradient boosted trees"
   ]
  },
  {
   "cell_type": "code",
   "execution_count": null,
   "id": "b9b85ee1-c90c-4a4b-86b0-ece05eed2681",
   "metadata": {},
   "outputs": [],
   "source": []
  },
  {
   "cell_type": "markdown",
   "id": "elementary-portfolio",
   "metadata": {},
   "source": [
    "## 테스트 데이터셋 성능 평가"
   ]
  },
  {
   "cell_type": "code",
   "execution_count": null,
   "id": "alert-flour",
   "metadata": {},
   "outputs": [],
   "source": [
    "# 학습 데이터 실제 값\n",
    "test_true = test_data['MEDV']\n",
    "\n",
    "# 학습 데이터 예측 값\n",
    "test_pred = lm_trained.predict(test_data.drop(['MEDV'], axis=1))\n",
    "\n",
    "MSE_value = mean_squared_error(test_true, test_pred)\n",
    "RMSE_value = np.sqrt(mean_squared_error(test_true, test_pred))\n",
    "MAE_value = mean_absolute_error(test_true, test_pred)\n",
    "MAPE_value = mean_absolute_percentage_error(test_true, test_pred)\n",
    "r2_value = r2_score(test_true, test_pred)\n",
    "\n",
    "print(\"Testing MSE : {:.3f}\".format(MSE_value))\n",
    "print(\"Testing RMSE : {:.3f}\".format(RMSE_value))\n",
    "print(\"Testing MAE : {:.3f}\".format(MAE_value))\n",
    "print(\"Testing MAPE : {:.3f}\".format(MAPE_value))\n",
    "print(\"Testing R2 : {:.3f}\".format(r2_value))"
   ]
  },
  {
   "cell_type": "markdown",
   "id": "alike-knight",
   "metadata": {},
   "source": [
    "## 변수 선별"
   ]
  },
  {
   "cell_type": "code",
   "execution_count": null,
   "id": "fundamental-flavor",
   "metadata": {},
   "outputs": [],
   "source": [
    "# 제거할 변수 이름\n",
    "drop_var = \n",
    "\n",
    "# 설정한 변수 제거\n",
    "train_data_new = train_data.drop(drop_var, axis=1)\n",
    "test_data_new = test_data.drop(drop_var, axis=1)"
   ]
  },
  {
   "cell_type": "markdown",
   "id": "durable-moore",
   "metadata": {},
   "source": [
    "- 테스트 데이터 성능 평가"
   ]
  },
  {
   "cell_type": "code",
   "execution_count": null,
   "id": "bc35ca1c-83e0-49ae-b821-b1bdd980a686",
   "metadata": {},
   "outputs": [],
   "source": [
    "# 변수가 제거된 데이터로 학습\n",
    "lm_new = sm.OLS(train_data_new['MEDV'], train_data_new.drop('MEDV', axis=1))\n",
    "lm_new_trained = lm_new.fit()\n",
    "display(lm_new_trained.summary())"
   ]
  },
  {
   "cell_type": "code",
   "execution_count": null,
   "id": "closing-conclusion",
   "metadata": {},
   "outputs": [],
   "source": [
    "# 학습 데이터 실제 값\n",
    "test_true = test_data_new['MEDV']\n",
    "\n",
    "# 학습 데이터 예측 값\n",
    "test_pred = lm_new_trained.predict(test_data_new.drop(['MEDV'], axis=1))\n",
    "\n",
    "new_MSE_value = mean_squared_error(test_true, test_pred)\n",
    "new_RMSE_value = np.sqrt(mean_squared_error(test_true, test_pred))\n",
    "new_MAE_value = mean_absolute_error(test_true, test_pred)\n",
    "new_MAPE_value = mean_absolute_percentage_error(test_true, test_pred)\n",
    "new_r2_value = r2_score(test_true, test_pred)\n",
    "\n",
    "print('Testing MSE: {:.3f} → {:.3f}'.format(MSE_value, new_MSE_value))\n",
    "print('Testing RMSE: {:.3f} → {:.3f}'.format(RMSE_value, new_RMSE_value))\n",
    "print('Testing MAE: {:.3f} → {:.3f}'.format(MAE_value, new_MAE_value))\n",
    "print('Testing MAPE: {:.3f} → {:.3f}'.format(MAPE_value, new_MAPE_value))\n",
    "print('Testing R2: {:.3f} → {:.3f}'.format(r2_value, new_r2_value))"
   ]
  },
  {
   "cell_type": "markdown",
   "id": "unsigned-guess",
   "metadata": {},
   "source": [
    "* 상관계수가 높은 변수 제거하기"
   ]
  },
  {
   "cell_type": "code",
   "execution_count": null,
   "id": "strategic-miracle",
   "metadata": {},
   "outputs": [],
   "source": [
    "plt.figure(figsize=(10, 9))\n",
    "sns.heatmap(data.corr(), cmap=sns.color_palette(\"coolwarm\", 10), annot=True)\n",
    "plt.show()"
   ]
  },
  {
   "cell_type": "code",
   "execution_count": null,
   "id": "continuous-neutral",
   "metadata": {},
   "outputs": [],
   "source": [
    "# 제거할 변수 이름\n",
    "drop_var = \"TAX\"\n",
    "\n",
    "# 설정한 변수 제거\n",
    "train_data_new = train_data.drop(drop_var, axis=1)\n",
    "test_data_new = test_data.drop(drop_var, axis=1)"
   ]
  },
  {
   "cell_type": "code",
   "execution_count": null,
   "id": "0af12185-ce78-4f93-9df6-b3bc83aa5373",
   "metadata": {},
   "outputs": [],
   "source": [
    "# 변수가 제거된 데이터로 학습\n",
    "lm_new = sm.OLS(train_data_new['MEDV'], train_data_new.drop('MEDV', axis=1))\n",
    "lm_new_trained = lm_new.fit()\n",
    "\n",
    "display(lm_new_trained.summary())"
   ]
  },
  {
   "cell_type": "code",
   "execution_count": null,
   "id": "fifteen-characterization",
   "metadata": {},
   "outputs": [],
   "source": [
    "# 학습 데이터 실제 값\n",
    "test_true = test_data_new['MEDV']\n",
    "\n",
    "# 학습 데이터 예측 값\n",
    "test_pred = lm_new_trained.predict(test_data_new.drop(['MEDV'], axis=1))\n",
    "\n",
    "new_MSE_value = mean_squared_error(test_true, test_pred)\n",
    "new_RMSE_value = np.sqrt(mean_squared_error(test_true, test_pred))\n",
    "new_MAE_value = mean_absolute_error(test_true, test_pred)\n",
    "new_MAPE_value = mean_absolute_percentage_error(test_true, test_pred)\n",
    "new_r2_value = r2_score(test_true, test_pred)\n",
    "\n",
    "print('Testing MSE: {:.3f} → {:.3f}'.format(MSE_value, new_MSE_value))\n",
    "print('Testing RMSE: {:.3f} → {:.3f}'.format(RMSE_value, new_RMSE_value))\n",
    "print('Testing MAE: {:.3f} → {:.3f}'.format(MAE_value, new_MAE_value))\n",
    "print('Testing MAPE: {:.3f} → {:.3f}'.format(MAPE_value, new_MAPE_value))\n",
    "print('Testing R2: {:.3f} → {:.3f}'.format(r2_value, new_r2_value))"
   ]
  },
  {
   "cell_type": "code",
   "execution_count": null,
   "id": "11b8b5c7-e56d-44c2-9639-3d8f955e6452",
   "metadata": {},
   "outputs": [],
   "source": []
  },
  {
   "cell_type": "code",
   "execution_count": null,
   "id": "cf25c85e-e5dd-46b8-82fb-ada08cb81f95",
   "metadata": {},
   "outputs": [],
   "source": []
  },
  {
   "cell_type": "code",
   "execution_count": null,
   "id": "488792af-99cb-47ba-a1b6-9d28c8dd5dcd",
   "metadata": {},
   "outputs": [],
   "source": []
  },
  {
   "cell_type": "code",
   "execution_count": null,
   "id": "10b9aa8c-8d91-4598-b79a-140cdf6dad0d",
   "metadata": {},
   "outputs": [],
   "source": []
  },
  {
   "cell_type": "code",
   "execution_count": null,
   "id": "a01d64e2-841b-4c3f-8689-8e4220b8e358",
   "metadata": {},
   "outputs": [],
   "source": []
  },
  {
   "cell_type": "code",
   "execution_count": null,
   "id": "36964a95-e793-4613-88b6-229b5531c4f5",
   "metadata": {},
   "outputs": [],
   "source": []
  },
  {
   "cell_type": "code",
   "execution_count": null,
   "id": "ec902b54-1787-493d-80be-b9f668e3ce36",
   "metadata": {},
   "outputs": [],
   "source": []
  },
  {
   "cell_type": "code",
   "execution_count": null,
   "id": "089d8f94-5fd3-440a-9175-c83eade18254",
   "metadata": {},
   "outputs": [],
   "source": []
  },
  {
   "cell_type": "code",
   "execution_count": null,
   "id": "1cf4f7af-dfcd-414c-be2c-9704cbef15db",
   "metadata": {},
   "outputs": [],
   "source": []
  },
  {
   "cell_type": "code",
   "execution_count": null,
   "id": "455c0687-93d5-4eba-ab6b-c36fefdb63d3",
   "metadata": {},
   "outputs": [],
   "source": []
  },
  {
   "cell_type": "code",
   "execution_count": null,
   "id": "90a1d57e-6eee-48e6-8d26-06e715dd59de",
   "metadata": {},
   "outputs": [],
   "source": []
  },
  {
   "cell_type": "code",
   "execution_count": null,
   "id": "fffea27e-a454-43ab-a941-0f91b4292e83",
   "metadata": {},
   "outputs": [],
   "source": []
  }
 ],
 "metadata": {
  "kernelspec": {
   "display_name": "Python 3",
   "language": "python",
   "name": "python3"
  },
  "language_info": {
   "codemirror_mode": {
    "name": "ipython",
    "version": 3
   },
   "file_extension": ".py",
   "mimetype": "text/x-python",
   "name": "python",
   "nbconvert_exporter": "python",
   "pygments_lexer": "ipython3",
   "version": "3.7.6"
  }
 },
 "nbformat": 4,
 "nbformat_minor": 5
}
